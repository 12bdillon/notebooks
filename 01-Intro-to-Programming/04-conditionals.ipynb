{
 "cells": [
  {
   "cell_type": "markdown",
   "metadata": {},
   "source": [
    "# Conditionals\n",
    "\n",
    "**Conditionals**, or `if-else` statements allow us to execute one set of instructions if one condition is `True` and another set otherwise.\n",
    "\n",
    "In addition to our standard mathematical operators, we also have boolean operators that allow us to determine if a condition is `True` or `False`\n",
    "\n",
    "<, >, <=, >=, ==, !=, and, or, not"
   ]
  },
  {
   "cell_type": "code",
   "execution_count": 8,
   "metadata": {},
   "outputs": [
    {
     "name": "stdout",
     "output_type": "stream",
     "text": [
      "3 is positive.\n"
     ]
    }
   ],
   "source": [
    "num = int(input(\"Enter an integer: \"))\n",
    "\n",
    "if num > 0:\n",
    "    print(\"{} is positive.\".format(num))\n",
    "elif num < 0:\n",
    "    print(\"{} is negative.\".format(num))\n",
    "else:\n",
    "    print(\"{} is neither positive nor negative.\".format(num))"
   ]
  },
  {
   "cell_type": "markdown",
   "metadata": {},
   "source": [
    "With that example, here are a couple of notes:\n",
    "\n",
    "- We say that `if-elif-else` statements are made of **blocks**.\n",
    "- Each of the blocks is mutually exclusive. That is, if the `if` block executes, neither of the other two will. The same is true for each.\n",
    "- The only block that is required is the `if` block. \n",
    "- There can be multiple `elif` blocks. \n",
    "- There can only be one `else` block. If it exists, it must be the last block. \n",
    "- All instructions that belong to a block must be indented at the same level.\n"
   ]
  },
  {
   "cell_type": "markdown",
   "metadata": {},
   "source": [
    "The above example is relatively basic, but we can use logical operators to test for more complicated conditions."
   ]
  },
  {
   "cell_type": "code",
   "execution_count": 15,
   "metadata": {},
   "outputs": [
    {
     "name": "stdout",
     "output_type": "stream",
     "text": [
      "17 is either in the range [0,100] or 17 is a negative even number\n"
     ]
    }
   ],
   "source": [
    "num = int(input(\"Enter an integer: \"))\n",
    "\n",
    "if num % 2 == 0 and num % 3 == 0:\n",
    "    print(\"{} is divisible by 6\".format(num))\n",
    "\n",
    "if (num >= 0 and num <= 100) or (num < 0 and num % 2 == 0):\n",
    "    print(\"{} is either in the range [0,100] or {} is a negative even number\".format(num, num))"
   ]
  }
 ],
 "metadata": {
  "kernelspec": {
   "display_name": "Python 3.9.6 64-bit",
   "language": "python",
   "name": "python3"
  },
  "language_info": {
   "codemirror_mode": {
    "name": "ipython",
    "version": 3
   },
   "file_extension": ".py",
   "mimetype": "text/x-python",
   "name": "python",
   "nbconvert_exporter": "python",
   "pygments_lexer": "ipython3",
   "version": "3.9.6"
  },
  "orig_nbformat": 4,
  "vscode": {
   "interpreter": {
    "hash": "aee8b7b246df8f9039afb4144a1f6fd8d2ca17a180786b69acc140d282b71a49"
   }
  }
 },
 "nbformat": 4,
 "nbformat_minor": 2
}
