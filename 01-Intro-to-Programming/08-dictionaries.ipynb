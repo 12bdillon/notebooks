{
 "cells": [
  {
   "cell_type": "markdown",
   "metadata": {},
   "source": [
    "# Dictionaries"
   ]
  },
  {
   "cell_type": "markdown",
   "metadata": {},
   "source": [
    "Dictionaries are the last of python's four built in collections. \n",
    "\n",
    "A **dictionary** is a collection of `key: value` pairs. Dictionaries can serve as look-up tables just as their namesakes allows us to look up definitions for words.\n",
    "\n",
    "In a python dictionary, keys and values can be any type we wish. \n",
    "\n",
    "For example, to store words and their definitions, we could have the keys be strings (the words) and the values a list of strings, the definitions. \n",
    "\n",
    "Or, if we wanted to do a frequency analysis of a text, the keys could be strings (again words) and the values could be integers, the number of times a word appears in the text."
   ]
  },
  {
   "cell_type": "markdown",
   "metadata": {},
   "source": [
    "## Syntax\n",
    "\n",
    "Empty dictionaries can be created:\n",
    "\n",
    "```python\n",
    "d1 = {}\n",
    "d2 = dict()\n",
    "```\n",
    "\n",
    "Dictionaries can also be initialized with key value pairs:"
   ]
  },
  {
   "cell_type": "code",
   "execution_count": 2,
   "metadata": {},
   "outputs": [],
   "source": [
    "days_in_month = {\n",
    "    \"january\": 31,\n",
    "    \"february\": 28,\n",
    "    \"march\": 31,\n",
    "    \"april\": 30,\n",
    "    \"may\": 31,\n",
    "    \"june\": 30,\n",
    "    \"july\": 31,\n",
    "    \"august\": 31,\n",
    "    \"september\": 30,\n",
    "    \"october\": 31,\n",
    "    \"november\": 30\n",
    "}"
   ]
  },
  {
   "cell_type": "markdown",
   "metadata": {},
   "source": [
    "### Accessing and Updating\n",
    "\n",
    "The `[]` notation is used to access into, update, or add to dictionaries."
   ]
  },
  {
   "cell_type": "code",
   "execution_count": 3,
   "metadata": {},
   "outputs": [
    {
     "name": "stdout",
     "output_type": "stream",
     "text": [
      "There are 31 days in May\n"
     ]
    }
   ],
   "source": [
    "# Access into dictionary\n",
    "num_days = days_in_month[\"may\"]\n",
    "\n",
    "print(\"There are {} days in {}\".format(num_days, \"May\"))\n",
    "\n",
    "# Update key: value pair\n",
    "days_in_month[\"february\"] = 29\n",
    "\n",
    "# Add entry\n",
    "days_in_month[\"december\"] = 31\n",
    "# Since \"december\" wasn't in the dictionary, the above instruction added it\n"
   ]
  },
  {
   "cell_type": "markdown",
   "metadata": {},
   "source": [
    "### Dictionary Methods"
   ]
  },
  {
   "cell_type": "markdown",
   "metadata": {},
   "source": [
    "#### `keys()`\n",
    "\n",
    "`keys()` returns a list of the keys in a dictionary."
   ]
  },
  {
   "cell_type": "code",
   "execution_count": 5,
   "metadata": {},
   "outputs": [
    {
     "name": "stdout",
     "output_type": "stream",
     "text": [
      "january\n",
      "february\n",
      "march\n",
      "april\n",
      "may\n",
      "june\n",
      "july\n",
      "august\n",
      "september\n",
      "october\n",
      "november\n",
      "december\n"
     ]
    }
   ],
   "source": [
    "for key in days_in_month.keys():\n",
    "    print(key)"
   ]
  },
  {
   "cell_type": "markdown",
   "metadata": {},
   "source": [
    "#### `values()`\n",
    "\n",
    "`values()` returns a list of the values in a dictionary."
   ]
  },
  {
   "cell_type": "code",
   "execution_count": 4,
   "metadata": {},
   "outputs": [
    {
     "name": "stdout",
     "output_type": "stream",
     "text": [
      "31\n",
      "29\n",
      "31\n",
      "30\n",
      "31\n",
      "30\n",
      "31\n",
      "31\n",
      "30\n",
      "31\n",
      "30\n",
      "31\n"
     ]
    }
   ],
   "source": [
    "for value in days_in_month.values():\n",
    "    print(value)"
   ]
  },
  {
   "cell_type": "markdown",
   "metadata": {},
   "source": [
    "#### `items()`\n",
    "\n",
    "`items()` returns a list of tuples, one for each `(key, value)` pair in a dictionary. This is useful for conveniently iterating of the dictionary."
   ]
  },
  {
   "cell_type": "code",
   "execution_count": 6,
   "metadata": {},
   "outputs": [
    {
     "name": "stdout",
     "output_type": "stream",
     "text": [
      "The key value tuples:\n",
      "('january', 31)\n",
      "('february', 29)\n",
      "('march', 31)\n",
      "('april', 30)\n",
      "('may', 31)\n",
      "('june', 30)\n",
      "('july', 31)\n",
      "('august', 31)\n",
      "('september', 30)\n",
      "('october', 31)\n",
      "('november', 30)\n",
      "('december', 31)\n",
      "\n",
      "Key value pairs\n",
      "january: 31\n",
      "february: 29\n",
      "march: 31\n",
      "april: 30\n",
      "may: 31\n",
      "june: 30\n",
      "july: 31\n",
      "august: 31\n",
      "september: 30\n",
      "october: 31\n",
      "november: 30\n",
      "december: 31\n"
     ]
    }
   ],
   "source": [
    "print(\"The key value tuples:\")\n",
    "for item in days_in_month.items():\n",
    "    print(item)\n",
    "\n",
    "print(\"\")\n",
    "print(\"Key value pairs\")\n",
    "# can treat items() like enumerate for a list\n",
    "for key, value in days_in_month.items():\n",
    "    print(\"{}: {}\".format(key, value))"
   ]
  },
  {
   "cell_type": "markdown",
   "metadata": {},
   "source": [
    "#### Reference\n",
    "\n",
    "**[Dictionary Methods](https://www.w3schools.com/python/python_dictionaries_methods.asp)**"
   ]
  }
 ],
 "metadata": {
  "kernelspec": {
   "display_name": "Python 3.9.6 64-bit",
   "language": "python",
   "name": "python3"
  },
  "language_info": {
   "codemirror_mode": {
    "name": "ipython",
    "version": 3
   },
   "file_extension": ".py",
   "mimetype": "text/x-python",
   "name": "python",
   "nbconvert_exporter": "python",
   "pygments_lexer": "ipython3",
   "version": "3.11.4"
  },
  "orig_nbformat": 4,
  "vscode": {
   "interpreter": {
    "hash": "aee8b7b246df8f9039afb4144a1f6fd8d2ca17a180786b69acc140d282b71a49"
   }
  }
 },
 "nbformat": 4,
 "nbformat_minor": 2
}
