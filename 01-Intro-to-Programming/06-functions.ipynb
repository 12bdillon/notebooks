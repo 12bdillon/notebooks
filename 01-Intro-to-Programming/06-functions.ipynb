{
 "cells": [
  {
   "cell_type": "markdown",
   "metadata": {},
   "source": [
    "# Functions\n",
    "\n",
    "So far, we have been using functions without much comment. A function to us has been a tool we can use to accomplish a specific task like reading user input, printing to the screen, or generating a range of numbers to loop over. Functions are useful and convenient. We can write our own.\n",
    "\n",
    "A **function**, or synonymously a **method**, is a set of instructions which we give a name and can call on where ever we want. Functions can take input as arguments return output to where they are called. In a sense, they are like mini programs.\n",
    "\n",
    "Functions allow us to encapsulate useful bits of code so we can use it wherever and as many times as we want without having to rewrite that code. Functions also make our programs much more readable. Imagine if we had to copy and paste all of the code to actually print text to the screen everywhere we wanted to print. The logical flow of our programs would get lost in all the details of how to print."
   ]
  },
  {
   "cell_type": "markdown",
   "metadata": {},
   "source": [
    "## Defining Functions\n",
    "\n",
    "We define functions by specifying a function definition and implementing a block of instructions that function will execute.\n",
    "\n",
    "Function definition syntax:"
   ]
  },
  {
   "cell_type": "code",
   "execution_count": null,
   "metadata": {},
   "outputs": [],
   "source": [
    "def function_name():\n",
    "    # instruction 1\n",
    "    # instruction 2 \n",
    "    return result"
   ]
  },
  {
   "cell_type": "markdown",
   "metadata": {},
   "source": [
    "- Function definitions start with the keyword `def` followed by the function's name. \n",
    "    - The name is picked by the author of the function.\n",
    "- Following the name is always open and close parentheses. \n",
    "    - Within the parentheses, zero or more **parameters** may be specified as a comma separated list.\n",
    "    - A parameter is a variable through which input can be passed to the function\n",
    "- Following the parameter list is a colon, and then the function body containing all instructions of the function.\n",
    "- The function may contain a `return` statement which returns the final result back to where it was called."
   ]
  },
  {
   "cell_type": "markdown",
   "metadata": {},
   "source": [
    "Here is a trivial function that returns the larger of two values:"
   ]
  },
  {
   "cell_type": "code",
   "execution_count": 1,
   "metadata": {},
   "outputs": [],
   "source": [
    "def max(val1, val2):\n",
    "    if val1 >= val2:\n",
    "        larger = val1\n",
    "    else:\n",
    "        larger = val2\n",
    "    return larger"
   ]
  },
  {
   "cell_type": "markdown",
   "metadata": {},
   "source": [
    "Now we can use it."
   ]
  },
  {
   "cell_type": "code",
   "execution_count": 4,
   "metadata": {},
   "outputs": [
    {
     "name": "stdout",
     "output_type": "stream",
     "text": [
      "The max of 3 and 6 is 6.\n",
      "The max of 7 and 5 is 7.\n"
     ]
    }
   ],
   "source": [
    "num1 = 3\n",
    "num2 = 6\n",
    "max_val = max(num1, num2)\n",
    "print(\"The max of {} and {} is {}.\".format(num1, num2, max_val))\n",
    "\n",
    "num1 = 7\n",
    "num2 = 5\n",
    "max_val = max(num1, num2)\n",
    "print(\"The max of {} and {} is {}.\".format(num1, num2, max_val))"
   ]
  },
  {
   "cell_type": "markdown",
   "metadata": {},
   "source": [
    "## Scope\n",
    "\n",
    "The **scope** of a variable is the portion of a program where it is accessible. \n",
    "\n",
    "All variables created within a function, including its parameters are local to that function and only accessible within it.\n",
    "\n",
    "Variables created within functions are **local variables**.\n",
    "\n",
    "Consider the following program and specifically what the value of `num` should be after running `add_one`:"
   ]
  },
  {
   "cell_type": "code",
   "execution_count": null,
   "metadata": {},
   "outputs": [],
   "source": [
    "def add_one(x):\n",
    "    x = x + 1\n",
    "\n",
    "num = 1\n",
    "add_one(num)\n",
    "print(num)"
   ]
  },
  {
   "cell_type": "markdown",
   "metadata": {},
   "source": [
    "`x` is a local variable to `add_one`. It is a separate variable from `num`, and any changes to `x` do not affect `num`.\n",
    "\n",
    "What about in the following example?"
   ]
  },
  {
   "cell_type": "code",
   "execution_count": null,
   "metadata": {},
   "outputs": [],
   "source": [
    "def add_one(x):\n",
    "    x = x + 1\n",
    "\n",
    "x = 1\n",
    "add_one(x)\n",
    "print(x)"
   ]
  },
  {
   "cell_type": "markdown",
   "metadata": {},
   "source": [
    "While we have renamed the outside variable to be \"`x`\", the <u>parameter</u> `x` is still a separate variable. We have two variables with the same, one local to the function and one outside of it. \n",
    "\n",
    "When `add_one` is called, the value from the outside `x` is copied into the parameter `x`. As a result, updating `x` within the function does not affect the outside variable."
   ]
  },
  {
   "cell_type": "markdown",
   "metadata": {},
   "source": [
    "Final example:"
   ]
  },
  {
   "cell_type": "code",
   "execution_count": null,
   "metadata": {},
   "outputs": [],
   "source": [
    "def add_one():\n",
    "    x = x + 1\n",
    "\n",
    "x = 1\n",
    "add_one()\n",
    "print(x)"
   ]
  },
  {
   "cell_type": "markdown",
   "metadata": {},
   "source": [
    "This won't compile. Python sees the x within `add_one` as local and uninitialized when it is referred to in the `x + 1` instruction."
   ]
  },
  {
   "cell_type": "markdown",
   "metadata": {},
   "source": [
    "## Practice\n"
   ]
  },
  {
   "attachments": {},
   "cell_type": "markdown",
   "metadata": {},
   "source": [
    "\n",
    "### `is_even`\n",
    "\n",
    "Write a function that takes in a number as a parameter and returns `True` if that number is even and `False` otherwise. You can test your function by calling on it below its definition."
   ]
  },
  {
   "cell_type": "code",
   "execution_count": 1,
   "metadata": {},
   "outputs": [],
   "source": [
    "def is_even(num):\n",
    "    # TO-DO\n",
    "    # implement me\n",
    "    pass # remove this line\n",
    "\n",
    "is_even(5)"
   ]
  },
  {
   "attachments": {},
   "cell_type": "markdown",
   "metadata": {},
   "source": [
    "### `contains_capital_letter`\n",
    "\n",
    "Write a function that takes in a string as a parameter and returns `True` if it contains atleast one capital letter and `False` otherwise."
   ]
  },
  {
   "cell_type": "code",
   "execution_count": null,
   "metadata": {},
   "outputs": [],
   "source": []
  },
  {
   "attachments": {},
   "cell_type": "markdown",
   "metadata": {},
   "source": [
    "### `contains_special_character`\n",
    "\n",
    "Write a function that takes in a string as a parameter and returns `True` if it contains any of `\"!@#$%&*<>?\"` and `False` otherwise."
   ]
  },
  {
   "cell_type": "code",
   "execution_count": null,
   "metadata": {},
   "outputs": [],
   "source": []
  },
  {
   "attachments": {},
   "cell_type": "markdown",
   "metadata": {},
   "source": [
    "### `valid_password`\n",
    "\n",
    "Write a function that takes in a string as a parameter and returns `True` if it contains:\n",
    "\n",
    "- atleast 8 characters\n",
    "- atleast one capital letter\n",
    "- atleast one lowercase letter\n",
    "- atleast one number\n",
    "- atleast one special character in `\"!@#$%&*<>?\"`\n",
    "\n",
    "and `False` otherwise."
   ]
  },
  {
   "cell_type": "code",
   "execution_count": null,
   "metadata": {},
   "outputs": [],
   "source": []
  },
  {
   "cell_type": "markdown",
   "metadata": {},
   "source": [
    "## Get Password\n",
    "\n",
    "Implement a program which prompts the user to enter a password and continues to do so until they enter a valid password as defined above. When they enter a valid password, have the program output `\"Thank you for the secure password.\"`"
   ]
  },
  {
   "cell_type": "code",
   "execution_count": null,
   "metadata": {},
   "outputs": [],
   "source": []
  },
  {
   "attachments": {},
   "cell_type": "markdown",
   "metadata": {},
   "source": [
    "# Python Libraries and Import Statements\n",
    "\n",
    "Just as we can write functions to use throughout our programs, other developers defore us have created libraries of functions which we can import into our programs.\n",
    "\n",
    "As a lanuage that has been adopted by the scientific, data science, and machine learning communities, there are many advanced libraries which you can use such as [numpy](https://numpy.org/devdocs/user/whatisnumpy.html), [scipy](https://docs.scipy.org/doc/scipy/tutorial/general.html), [pybrain](http://pybrain.org/), [matplotlib](https://matplotlib.org/), and [tensorflow](https://www.tensorflow.org/overview).\n",
    "\n",
    "The process for using all of these is the same.\n",
    "\n",
    "1) Install the library using instructions in its documentation.\n",
    "    - This is often as simple as using a common python package manager such as pip (which comes with python)\n",
    "    - Using pip, on the terminal of your computer you can issue the command: `pip install numpy` to install numpy\n",
    "2) Import the libary into your program\n",
    "3) Call on its functions (refer back to documentation and tutorials)\n",
    "\n",
    "For example, `math` is a library which comes as a part of python's standard libraries (that is, automatically with python). [`math`](https://docs.python.org/3/library/math.html) provides many useful functions such as `pow`, `log`, `sqrt`, `sin`, `cos`, etc...\n",
    "\n",
    "Here is example code using the `math` library:"
   ]
  },
  {
   "cell_type": "code",
   "execution_count": null,
   "metadata": {},
   "outputs": [],
   "source": [
    "import math\n",
    "\n",
    "print(math.sqrt(289))"
   ]
  },
  {
   "attachments": {},
   "cell_type": "markdown",
   "metadata": {},
   "source": [
    "See, it is super easy to use a libary. Most of the work is usually in learning about them, especially the more advanced ones, but it is worth it!"
   ]
  }
 ],
 "metadata": {
  "kernelspec": {
   "display_name": "Python 3.9.6 64-bit",
   "language": "python",
   "name": "python3"
  },
  "language_info": {
   "codemirror_mode": {
    "name": "ipython",
    "version": 3
   },
   "file_extension": ".py",
   "mimetype": "text/x-python",
   "name": "python",
   "nbconvert_exporter": "python",
   "pygments_lexer": "ipython3",
   "version": "3.9.6"
  },
  "orig_nbformat": 4,
  "vscode": {
   "interpreter": {
    "hash": "aee8b7b246df8f9039afb4144a1f6fd8d2ca17a180786b69acc140d282b71a49"
   }
  }
 },
 "nbformat": 4,
 "nbformat_minor": 2
}
