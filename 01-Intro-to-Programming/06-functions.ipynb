{
 "cells": [
  {
   "cell_type": "markdown",
   "metadata": {},
   "source": [
    "# Functions\n",
    "\n",
    "So far, we have been using functions without much comment. A function to us has been a tool we can use to accomplish a specific task like reading user input, printing to the screen, or generating a range of numbers to loop over. Functions are useful and convenient. We can write our own.\n",
    "\n",
    "A **function** is a set of instructions which we give a name and can call on where ever we want. Functions can take input as arguments return output to where they are called. In a sense, they are like mini programs.\n",
    "\n",
    "Functions allow us to encapsulate useful bits of code so we can use it wherever and as many times as we want without having to rewrite that code. Functions also make our programs much more readable. Imagine if we had to copy and paste all of the code to actually print text to the screen everywhere we wanted to print. The logical flow of our programs would get lost in all the details of how to print."
   ]
  },
  {
   "cell_type": "markdown",
   "metadata": {},
   "source": [
    "## Defining Functions\n",
    "\n",
    "We define functions by specifying a function definition and implementing a block of instructions that function will execute.\n",
    "\n",
    "Function definition syntax:"
   ]
  },
  {
   "cell_type": "code",
   "execution_count": null,
   "metadata": {},
   "outputs": [],
   "source": [
    "def function_name():\n",
    "    # instruction 1\n",
    "    # instruction 2 \n",
    "    return result"
   ]
  },
  {
   "cell_type": "markdown",
   "metadata": {},
   "source": [
    "- Function definitions start with the keyword `def` followed by the function's name. \n",
    "    - The name is picked by the author of the function.\n",
    "- Following the name is always open and close parentheses. \n",
    "    - Within the parentheses, zero or more parameters may be specified as a comma separated list. \n",
    "- Following the parameter list is a colon, and then the function body containing all instructions of the function.\n",
    "- The function may contain a `return` statement which returns the final result back to where it was called."
   ]
  },
  {
   "cell_type": "markdown",
   "metadata": {},
   "source": [
    "Here is a trivial function that returns the larger of two values:"
   ]
  },
  {
   "cell_type": "code",
   "execution_count": 1,
   "metadata": {},
   "outputs": [],
   "source": [
    "def max(val1, val2):\n",
    "    if val1 >= val2:\n",
    "        larger = val1\n",
    "    else:\n",
    "        larger = val2\n",
    "    return larger"
   ]
  },
  {
   "cell_type": "markdown",
   "metadata": {},
   "source": [
    "Now we can use it."
   ]
  },
  {
   "cell_type": "code",
   "execution_count": 4,
   "metadata": {},
   "outputs": [
    {
     "name": "stdout",
     "output_type": "stream",
     "text": [
      "The max of 3 and 6 is 6.\n",
      "The max of 7 and 5 is 7.\n"
     ]
    }
   ],
   "source": [
    "num1 = 3\n",
    "num2 = 6\n",
    "max_val = max(num1, num2)\n",
    "print(\"The max of {} and {} is {}.\".format(num1, num2, max_val))\n",
    "\n",
    "num1 = 7\n",
    "num2 = 5\n",
    "max_val = max(num1, num2)\n",
    "print(\"The max of {} and {} is {}.\".format(num1, num2, max_val))"
   ]
  },
  {
   "cell_type": "markdown",
   "metadata": {},
   "source": [
    "## Practice\n"
   ]
  },
  {
   "cell_type": "markdown",
   "metadata": {},
   "source": [
    "\n",
    "### `is_even`\n",
    "\n",
    "Write a function that takes in a number and returns `True` if that number is even and `False` otherwise:"
   ]
  },
  {
   "cell_type": "code",
   "execution_count": null,
   "metadata": {},
   "outputs": [],
   "source": []
  },
  {
   "cell_type": "markdown",
   "metadata": {},
   "source": [
    "### `contains_capital_letter`\n",
    "\n",
    "Write a function that takes in a string and returns `True` if it contains atleast one capital letter and `False` otherwise."
   ]
  },
  {
   "cell_type": "code",
   "execution_count": null,
   "metadata": {},
   "outputs": [],
   "source": []
  },
  {
   "cell_type": "markdown",
   "metadata": {},
   "source": [
    "### `contains_special_character`\n",
    "\n",
    "Write a function that takes in a string and returns `True` if it contains any of `\"!@#$%&*<>?\"` and `False` otherwise."
   ]
  },
  {
   "cell_type": "code",
   "execution_count": null,
   "metadata": {},
   "outputs": [],
   "source": []
  },
  {
   "cell_type": "markdown",
   "metadata": {},
   "source": [
    "### `valid_password`\n",
    "\n",
    "Write a function that takes in a string and returns `True` if it contains:\n",
    "\n",
    "- atleast 8 characters\n",
    "- atleast one capital letter\n",
    "- atleast one lowercase letter\n",
    "- atleast one number\n",
    "- atleast one special character in `\"!@#$%&*<>?\"`\n",
    "\n",
    "and `False` otherwise."
   ]
  },
  {
   "cell_type": "code",
   "execution_count": null,
   "metadata": {},
   "outputs": [],
   "source": []
  },
  {
   "cell_type": "markdown",
   "metadata": {},
   "source": [
    "## Get Password\n",
    "\n",
    "Implement a program which prompts the user to enter a password and continues to do so until they enter a valid password. When they enter a valid password, have the program output `\"Thank you for the secure password.\"`"
   ]
  },
  {
   "cell_type": "code",
   "execution_count": null,
   "metadata": {},
   "outputs": [],
   "source": []
  }
 ],
 "metadata": {
  "kernelspec": {
   "display_name": "Python 3.9.6 64-bit",
   "language": "python",
   "name": "python3"
  },
  "language_info": {
   "codemirror_mode": {
    "name": "ipython",
    "version": 3
   },
   "file_extension": ".py",
   "mimetype": "text/x-python",
   "name": "python",
   "nbconvert_exporter": "python",
   "pygments_lexer": "ipython3",
   "version": "3.9.6"
  },
  "orig_nbformat": 4,
  "vscode": {
   "interpreter": {
    "hash": "aee8b7b246df8f9039afb4144a1f6fd8d2ca17a180786b69acc140d282b71a49"
   }
  }
 },
 "nbformat": 4,
 "nbformat_minor": 2
}
