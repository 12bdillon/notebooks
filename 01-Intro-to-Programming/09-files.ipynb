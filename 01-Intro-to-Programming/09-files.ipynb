{
 "cells": [
  {
   "cell_type": "markdown",
   "metadata": {},
   "source": [
    "# Files"
   ]
  },
  {
   "cell_type": "markdown",
   "metadata": {},
   "source": [
    "Reading and writing to files is unarguably useful, especially when performing any kind of data analysis.\n",
    "\n",
    "In this notebook, you will be provided with what you need to know to read and/or write to files."
   ]
  },
  {
   "cell_type": "markdown",
   "metadata": {},
   "source": [
    "## File Handling\n",
    "\n",
    "Just like interacting with files in any other context, to read or write to a file, you must first open it, and when we done, you should close it.\n",
    "\n",
    "When you open a file, you get a **file handle** which is a reference to the file so that you can pull input from it or write output to it."
   ]
  },
  {
   "cell_type": "markdown",
   "metadata": {},
   "source": [
    "### `open()`\n",
    "\n",
    "The `open()` function can take in two parameters: the path to the file and the mode (e.g, read, write, append, create, text, binary) to open it in. \n",
    "\n",
    "Specifying the mode is optional. If no mode is provided, `open()` defaults to read and text\n",
    "\n",
    "```python\n",
    "file_handle = open(\"path/to/file/filename\")\n",
    "```\n",
    "\n",
    "The `open()` function can also take in an optional second parameter, the mode to open it in.\n",
    "\n",
    "Modes:\n",
    "\n",
    "- `\"r\"`: read\n",
    "- `\"a\"`: append\n",
    "- `\"w\"`: write\n",
    "- `\"x\"`: create\n",
    "- `\"t\"`: text file\n",
    "- `\"b\"`: binary file\n",
    "\n",
    "**Examples:**"
   ]
  },
  {
   "cell_type": "code",
   "execution_count": 3,
   "metadata": {},
   "outputs": [
    {
     "name": "stdout",
     "output_type": "stream",
     "text": [
      "b'01101000011001010110110001101100011011110010111000100000010010010010000001100001011011010010000001100001001000000110011001101001011011100110010100100000011001100110100101101100011001010010111000001010010010010010000001101000011000010111011001100101001000000111010001101000011100100110010101100101001000000110110001101001011011100110010101110011001011100000101001010100011010000111001001100101011001010010000001101100011010010110111001100101011100110010000001100001011100100110010100100000011001100110100101101110011001010010000001100110011011110111001000100000011101000110100001101001011100110010000001100100011001010110000101110010001000000110111101101100011001000010000001100110011010010110111001100101001000000110011001101001011011000110010100101110'\n"
     ]
    }
   ],
   "source": [
    "f = open(\"files/hello.txt\", \"\")\n",
    "for line in f:\n",
    "    print(line)"
   ]
  }
 ],
 "metadata": {
  "kernelspec": {
   "display_name": "Python 3.9.6 64-bit",
   "language": "python",
   "name": "python3"
  },
  "language_info": {
   "codemirror_mode": {
    "name": "ipython",
    "version": 3
   },
   "file_extension": ".py",
   "mimetype": "text/x-python",
   "name": "python",
   "nbconvert_exporter": "python",
   "pygments_lexer": "ipython3",
   "version": "3.9.6"
  },
  "orig_nbformat": 4,
  "vscode": {
   "interpreter": {
    "hash": "aee8b7b246df8f9039afb4144a1f6fd8d2ca17a180786b69acc140d282b71a49"
   }
  }
 },
 "nbformat": 4,
 "nbformat_minor": 2
}
