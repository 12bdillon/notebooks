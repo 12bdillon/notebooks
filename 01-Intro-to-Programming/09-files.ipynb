{
 "cells": [
  {
   "cell_type": "markdown",
   "metadata": {},
   "source": [
    "# Files"
   ]
  },
  {
   "cell_type": "markdown",
   "metadata": {},
   "source": [
    "Reading and writing to files is unarguably useful, especially when performing any kind of data analysis.\n",
    "\n",
    "In this notebook, you will be provided with what you need to know to read and/or write to files."
   ]
  },
  {
   "cell_type": "markdown",
   "metadata": {},
   "source": [
    "## File Handling\n",
    "\n",
    "Just like interacting with files in any other context, to read or write to a file, you must first open it, and when we done, you should close it.\n",
    "\n",
    "When you open a file, you get a **file handle** which is a reference to the file so that you can pull input from it or write output to it."
   ]
  },
  {
   "cell_type": "markdown",
   "metadata": {},
   "source": [
    "### `open()` and `close()`\n",
    "\n",
    "The `open()` function opens a file and returns a handle for that file. The handle can then be used for reading or writing (depending on the mode, see below) from/to that file.\n",
    "\n",
    "Once finished with a file, it should be closed.\n",
    "\n",
    "```python\n",
    "file_handle = open(\"path/to/file/filename\")\n",
    "# ...\n",
    "file_handle.close()\n",
    "```\n",
    "\n",
    "### File Mode\n",
    "\n",
    "The `open()` function can also take in an optional second parameter, the mode to open it in.\n",
    "\n",
    "Modes:\n",
    "\n",
    "- `\"r\"`: **read**\n",
    "- `\"a\"`: **append**, create file if doesn't exist\n",
    "- `\"w\"`: **write**, create file if doesn't exist\n",
    "- `\"x\"`: **create**\n",
    "- `\"t\"`: **text file**\n",
    "- `\"b\"`: **binary file**\n",
    "\n",
    "By default, the mode is set to `\"rt\"`.\n",
    "\n",
    "**Examples:**"
   ]
  },
  {
   "cell_type": "code",
   "execution_count": 13,
   "metadata": {},
   "outputs": [],
   "source": [
    "f = open(\"files/hello.txt\", \"rt\") # equivalent to default mode\n",
    "f.close()\n",
    "\n",
    "f = open(\"files/file.txt\", \"w\") # write to text file, text is default. This mode\n",
    "f.close()                        # will overwrite any contents of the file.\n",
    "\n",
    "f = open(\"files/hello.txt\", \"a\") # append to text file. This mode will write to the\n",
    "f.close()                        # end of the file, NOT overwriting any contents\n",
    "\n",
    "f = open(\"files/hello.bin\", \"rb\") # read from binary file.\n",
    "f.close()                        "
   ]
  },
  {
   "cell_type": "markdown",
   "metadata": {},
   "source": [
    "## Reading from files, three ways"
   ]
  },
  {
   "cell_type": "markdown",
   "metadata": {},
   "source": [
    "### `read()`\n",
    "\n",
    "`read()` returns a string, the entire contents of the file. If the file is large, this can be slow and memory intensive."
   ]
  },
  {
   "cell_type": "code",
   "execution_count": null,
   "metadata": {},
   "outputs": [],
   "source": [
    "f = open(\"files/hello.txt\") # opens in \"rt\" mode\n",
    "print(f.read())\n",
    "f.close()"
   ]
  },
  {
   "cell_type": "markdown",
   "metadata": {},
   "source": [
    "### `readlines()`\n",
    "\n",
    "`readlines()` returns a list of the lines in the file. Again, if the file is large, this can be slow and memory intensive."
   ]
  },
  {
   "cell_type": "code",
   "execution_count": null,
   "metadata": {},
   "outputs": [],
   "source": [
    "f = open(\"files/hello.txt\") # opens in \"rt\" mode\n",
    "print(f.readlines())\n",
    "f.close()"
   ]
  },
  {
   "cell_type": "markdown",
   "metadata": {},
   "source": [
    "### Iterating over the file\n",
    "\n",
    "Both of the above are easy, but they aren't efficient for large files.\n",
    "\n",
    "A more efficient way is to iterate over the file, reading in one line at a time.\n",
    "\n",
    "A basic for loop can iterate over any file."
   ]
  },
  {
   "cell_type": "code",
   "execution_count": null,
   "metadata": {},
   "outputs": [],
   "source": [
    "f = open(\"files/hello.txt\") # opens in \"rt\" mode\n",
    "for line in f:\n",
    "    print(line)\n",
    "f.close()"
   ]
  },
  {
   "cell_type": "markdown",
   "metadata": {},
   "source": [
    "You'll notice that when you use read from a file, the new line characters at the end of each line are kept.\n",
    "\n",
    "You can remove them using `rstrip()`"
   ]
  },
  {
   "cell_type": "code",
   "execution_count": null,
   "metadata": {},
   "outputs": [],
   "source": [
    "f = open(\"files/hello.txt\") # opens in \"rt\" mode\n",
    "for line in f:\n",
    "    print(line.rstrip())\n",
    "f.close()"
   ]
  },
  {
   "cell_type": "markdown",
   "metadata": {},
   "source": [
    "## Writing to files"
   ]
  },
  {
   "cell_type": "markdown",
   "metadata": {},
   "source": [
    "Writing to a file is trivially easy. The `write()` function takes a string and writes it to a file."
   ]
  },
  {
   "cell_type": "code",
   "execution_count": null,
   "metadata": {},
   "outputs": [],
   "source": [
    "f = open(\"files/output.txt\", \"w\") # opens in \"rt\" mode\n",
    "f.write(\"Replace this string with your own content!\")\n",
    "f.write(\"Does write add new line characters to the end of each line?\")\n",
    "f.close()\n",
    "\n",
    "f = open(\"files/output.txt\") # opens in \"rt\" mode\n",
    "print(f.readlines())\n",
    "f.close()"
   ]
  },
  {
   "cell_type": "markdown",
   "metadata": {},
   "source": [
    "The most important thing to know about writing to files is that in **write** `\"w\"` mode, the contents of the file will be overwritten. If you want to add to the end of a file, the **append** `\"a\"` mode should be used."
   ]
  },
  {
   "attachments": {},
   "cell_type": "markdown",
   "metadata": {},
   "source": [
    "### Append to `hello.txt`\n",
    "\n",
    "Append a forth line to `hello.txt`"
   ]
  },
  {
   "cell_type": "code",
   "execution_count": null,
   "metadata": {},
   "outputs": [],
   "source": []
  },
  {
   "attachments": {},
   "cell_type": "markdown",
   "metadata": {},
   "source": [
    "### Read in your updated `hello.txt`\n",
    "\n",
    "Read in and print every line of your updated `hello.txt`"
   ]
  },
  {
   "cell_type": "code",
   "execution_count": null,
   "metadata": {},
   "outputs": [],
   "source": []
  },
  {
   "attachments": {},
   "cell_type": "markdown",
   "metadata": {},
   "source": [
    "### Read in a protein\n",
    "\n",
    "In the `files` directory is a file `AT1G58602.pdb`. This is a text file containing the predicted protein structure for a \"probable disease resistant protein\" from the plant \"ARABIDOPSIS THALIANA\". This structure was predicted by AlphaFold.\n",
    "\n",
    "Read in and print out every line of this file."
   ]
  },
  {
   "cell_type": "code",
   "execution_count": null,
   "metadata": {},
   "outputs": [],
   "source": []
  },
  {
   "attachments": {},
   "cell_type": "markdown",
   "metadata": {},
   "source": [
    "### View `AT1G58602.png`\n",
    "\n",
    "In the `figures` directory is an image of `AT1G58602`. Of course, you can easily open this file on your computer, but we can also have python do it for us!\n",
    "\n",
    "We haven't covered how to open and view images, but one of the most used skills of every programmer is searching for and learning how to do something new. Learn how to open and view `AT1G58602.png` using python, then do so."
   ]
  },
  {
   "cell_type": "code",
   "execution_count": null,
   "metadata": {},
   "outputs": [],
   "source": []
  }
 ],
 "metadata": {
  "kernelspec": {
   "display_name": "Python 3.9.6 64-bit",
   "language": "python",
   "name": "python3"
  },
  "language_info": {
   "codemirror_mode": {
    "name": "ipython",
    "version": 3
   },
   "file_extension": ".py",
   "mimetype": "text/x-python",
   "name": "python",
   "nbconvert_exporter": "python",
   "pygments_lexer": "ipython3",
   "version": "3.9.6"
  },
  "orig_nbformat": 4,
  "vscode": {
   "interpreter": {
    "hash": "aee8b7b246df8f9039afb4144a1f6fd8d2ca17a180786b69acc140d282b71a49"
   }
  }
 },
 "nbformat": 4,
 "nbformat_minor": 2
}
