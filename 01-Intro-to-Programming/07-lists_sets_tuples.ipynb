{
 "cells": [
  {
   "cell_type": "markdown",
   "metadata": {},
   "source": [
    "# Lists, Sets, and Tuples"
   ]
  },
  {
   "cell_type": "markdown",
   "metadata": {},
   "source": [
    "Given that we want to be able to process large datasets, it would be useful to be able to easily store and reference into collections of data. \n",
    "\n",
    "Consider analyzing a large number of pixels (or [voxels](https://en.wikipedia.org/wiki/Voxel)) in a medical image, or the coordinates of many atoms in some large molecular structures. \n"
   ]
  },
  {
   "cell_type": "markdown",
   "metadata": {},
   "source": [
    "For example, here is the atomic structure of one of the four components of hemoglobin\n",
    "\n",
    "<img src = \"figures/hemoglobin.png\" width = \"60%\">"
   ]
  },
  {
   "cell_type": "markdown",
   "metadata": {},
   "source": [
    "We don't want to, and realistically can't, hard code a variable for each each atomic coordinate, nor would we want to only have only a handful of values stored in individual variables at any given time. \n",
    "\n",
    "It is much better to have a single variable store a collection of all values for easy access. This is where Python's built-in collections come into play.\n",
    "\n",
    "Python provides four built in **collections**: **Lists**, **Sets**, **Tuples**, and **Dictionaries**. \n",
    "\n",
    "Of these four, **Lists** are the most basic and ubiquitous of the collections. The majority of this notebook focuses on lists as a result. \n",
    "\n",
    "**Sets** and **Tuples** are more niche but have their uses so they will be introduced briefly after lists.\n",
    "\n",
    "**Dictionaries** allow us to associate data by storing key-value pairs. They are less general, but extremely useful. They will be covered in the next notebook."
   ]
  },
  {
   "cell_type": "markdown",
   "metadata": {},
   "source": [
    "# Lists\n",
    "\n",
    "As stated, a **List** of values is the most basic and ubiquitous of these collections.\n",
    "\n",
    "```python\n",
    "lst = [2, 3, 5, 7, 11, 13, 17, 19, 23, 29]\n",
    "```"
   ]
  },
  {
   "cell_type": "markdown",
   "metadata": {},
   "source": [
    "## Syntax\n",
    "\n",
    "List syntax uses the square brackets: `[]`\n",
    "\n",
    "You've seen them before when indexing and slicing into strings. This is because strings are built as a lists. A string is a list of characters.\n",
    "\n",
    "We can create an empty list or create a list with hard coded initial values:"
   ]
  },
  {
   "cell_type": "code",
   "execution_count": 8,
   "metadata": {},
   "outputs": [],
   "source": [
    "# Create an empty list\n",
    "lst1 = [] \n",
    "lst2 = list() # a second way to create an empty list\n",
    "\n",
    "# A list of strings representing the days of the week\n",
    "days = [\"Monday\", \"Tuesday\", \"Wednesday\", \"Thursday\", \"Friday\", \"Saturday\", \"Sunday\"]"
   ]
  },
  {
   "cell_type": "markdown",
   "metadata": {},
   "source": [
    "Note that list values are separated by commas.\n",
    "\n",
    "Every list has a length which can be returned using the `len()` function."
   ]
  },
  {
   "cell_type": "code",
   "execution_count": 2,
   "metadata": {},
   "outputs": [
    {
     "name": "stdout",
     "output_type": "stream",
     "text": [
      "7\n"
     ]
    }
   ],
   "source": [
    "print(len(days))"
   ]
  },
  {
   "cell_type": "markdown",
   "metadata": {},
   "source": [
    "## Indices\n",
    "\n",
    "Every element in a list has a position, its **index**.\n",
    "\n",
    "In the list of days above, `\"Monday\"` is at index `0`, and `\"Sunday\"` is at index `6`.\n",
    "\n",
    "Since we start counting from `0`, the last element in a list is always at index `len(list) - 1`."
   ]
  },
  {
   "cell_type": "markdown",
   "metadata": {},
   "source": [
    "**Accessing by Index**\n",
    "\n",
    "You can access into a list by index:\n",
    "\n",
    "```python\n",
    "first_element = lst[0]\n",
    "```\n",
    "\n",
    "This should look familiar. It is the same syntax we use for Strings.\n",
    "\n"
   ]
  },
  {
   "cell_type": "markdown",
   "metadata": {},
   "source": [
    "**Try It**: Access and print the element at index 5 in the list of days:"
   ]
  },
  {
   "cell_type": "code",
   "execution_count": null,
   "metadata": {},
   "outputs": [],
   "source": [
    "days = [\"Monday\", \"Tuesday\", \"Wednesday\", \"Thursday\", \"Friday\", \"Saturday\", \"Sunday\"]\n",
    "\n"
   ]
  },
  {
   "cell_type": "markdown",
   "metadata": {},
   "source": [
    "**Updating by Index**\n",
    "\n",
    "Unlike strings, you can update elements in the list:\n",
    "\n",
    "```python\n",
    "nums = [1,3,3,4]\n",
    "nums[1] = 2\n",
    "print(nums) # [1,2,3,4]\n",
    "```"
   ]
  },
  {
   "cell_type": "markdown",
   "metadata": {},
   "source": [
    "**Try It**: Swap the two elements which are out of order and print out the corrected list."
   ]
  },
  {
   "cell_type": "code",
   "execution_count": null,
   "metadata": {},
   "outputs": [],
   "source": [
    "lst = [2, 3, 7, 5, 11]\n",
    "\n"
   ]
  },
  {
   "cell_type": "markdown",
   "metadata": {},
   "source": [
    "**Try It**: Try to update a character in a string and see what happens."
   ]
  },
  {
   "cell_type": "code",
   "execution_count": null,
   "metadata": {},
   "outputs": [],
   "source": [
    "string = \"banama\"\n",
    "\n"
   ]
  },
  {
   "cell_type": "markdown",
   "metadata": {},
   "source": [
    "**List Slicing**\n",
    "\n",
    "Lists also support slicing.\n",
    "\n",
    "```python\n",
    "sublist = lst[2:5] # return a list containing the elements in lst at indices 2, 3, and 4.\n",
    "```"
   ]
  },
  {
   "cell_type": "markdown",
   "metadata": {},
   "source": [
    "**Try It**: Extract a list of the *weekdays* from `days` using list slicing and print it. \n",
    "\n",
    "If you have a list `lst`, you can print it using `print(lst)`."
   ]
  },
  {
   "cell_type": "code",
   "execution_count": 4,
   "metadata": {},
   "outputs": [],
   "source": [
    "days = [\"Monday\", \"Tuesday\", \"Wednesday\", \"Thursday\", \"Friday\", \"Saturday\", \"Sunday\"]\n",
    "\n"
   ]
  },
  {
   "cell_type": "markdown",
   "metadata": {},
   "source": [
    "## Inserting and Removing\n",
    "\n",
    "Just like strings, there are a set of [list methods](https://www.w3schools.com/python/python_ref_list.asp) we can use on lists.\n",
    "\n",
    "A few of the most useful are:\n",
    "\n",
    "- `insert(index, element)`\n",
    "- `append(element)`\n",
    "- `remove(element)`\n",
    "- `count(element)`\n",
    "- `index(element)`\n",
    "\n",
    "You will use the first three of these below. See the link above for details on the others."
   ]
  },
  {
   "cell_type": "markdown",
   "metadata": {},
   "source": [
    "### Inserting into a list\n",
    "\n",
    "The `insert(index, element)` function allows us to insert `element` at the given `index`. All element from that index to the end will be shifted forward to make room for `element`."
   ]
  },
  {
   "cell_type": "markdown",
   "metadata": {},
   "source": [
    "**Try It**: `insert`\n",
    "\n",
    "The following list of prime numbers is missing `5`. Insert `5` into its proper position and print out the corrected list."
   ]
  },
  {
   "cell_type": "code",
   "execution_count": null,
   "metadata": {},
   "outputs": [],
   "source": [
    "primes = [2, 3, 7, 11, 13]\n",
    "\n"
   ]
  },
  {
   "cell_type": "markdown",
   "metadata": {},
   "source": [
    "### Appending to a list\n",
    "\n",
    "`append(element)` allows us to append that element onto the list."
   ]
  },
  {
   "cell_type": "markdown",
   "metadata": {},
   "source": [
    "**Try it**: `append`\n",
    "\n",
    "Append the 17 onto your list of corrected primes from above.\n",
    "\n",
    "Note: Once you execute a code cell in a notebook, its variables are available to any other code cell in that notebook."
   ]
  },
  {
   "cell_type": "code",
   "execution_count": null,
   "metadata": {},
   "outputs": [],
   "source": [
    "\n",
    "\n"
   ]
  },
  {
   "cell_type": "markdown",
   "metadata": {},
   "source": [
    "### Removing from a list\n",
    "\n",
    "`remove(element)` removes the first instance of `element` from the list."
   ]
  },
  {
   "cell_type": "markdown",
   "metadata": {},
   "source": [
    "**Try it**: `remove`\n",
    "\n",
    "Remove both instances of 15 from the following list and print out the corrected list:"
   ]
  },
  {
   "cell_type": "code",
   "execution_count": 12,
   "metadata": {},
   "outputs": [],
   "source": [
    "primes = [2, 3, 5, 7, 11, 13, 15, 15, 17]\n",
    "\n"
   ]
  },
  {
   "cell_type": "markdown",
   "metadata": {},
   "source": [
    "## Looping over lists\n",
    "\n",
    "Looping over a list is trivially easy using a `for` loop.\n",
    "\n",
    "```python\n",
    "for element in lst:\n",
    "    print(element)\n",
    "```\n",
    "\n",
    "The loop iterates over the list from index 0 to the end. `element` is a variable which holds the current element at every iteration of the list. "
   ]
  },
  {
   "cell_type": "markdown",
   "metadata": {},
   "source": [
    "**Try It**: Loop over days\n",
    "\n",
    "Write a loop to iterate over `days` and print out each day one at a time."
   ]
  },
  {
   "cell_type": "code",
   "execution_count": null,
   "metadata": {},
   "outputs": [],
   "source": [
    "days = [\"Monday\", \"Tuesday\", \"Wednesday\", \"Thursday\", \"Friday\", \"Saturday\", \"Sunday\"]\n",
    "\n"
   ]
  },
  {
   "cell_type": "markdown",
   "metadata": {},
   "source": [
    "### Tracking indices: `enumerate`\n",
    "\n",
    "Sometimes, it is useful to know both the element and its index in a loop. For example, if we are sorting a list, we will need to compare elements directly and know their positions so that we can swap them if need be.\n",
    "\n",
    "We can use `enumerate()` in a `for` loop track both the current element and its index.\n",
    "\n",
    "```python\n",
    "for index, element in enumerate(lst):\n",
    "    print(\"Element {} is at index {}\".format(element, index))\n",
    "```"
   ]
  },
  {
   "cell_type": "markdown",
   "metadata": {},
   "source": [
    "**Try it**: `enumerate` and days\n",
    "\n",
    "Print each day and its index using a for loop with enumerate:"
   ]
  },
  {
   "cell_type": "code",
   "execution_count": 11,
   "metadata": {},
   "outputs": [],
   "source": [
    "days = [\"Monday\", \"Tuesday\", \"Wednesday\", \"Thursday\", \"Friday\", \"Saturday\", \"Sunday\"]\n",
    "\n"
   ]
  },
  {
   "cell_type": "markdown",
   "metadata": {},
   "source": [
    "# Sets"
   ]
  },
  {
   "cell_type": "markdown",
   "metadata": {},
   "source": [
    "A **set** is an **unordered** collection of elements with **no duplicates**. Sets are useful if your dataset does not or should not contains any duplicates and if set operations ([set functions](https://www.w3schools.com/python/python_sets_methods.asp)) are useful to you.\n",
    "\n",
    "As an unordered collection, set elements do not have indices and there is no guarantee on the order in which elements will be stored:"
   ]
  },
  {
   "cell_type": "markdown",
   "metadata": {},
   "source": [
    "**Set Creation**:"
   ]
  },
  {
   "cell_type": "code",
   "execution_count": 47,
   "metadata": {},
   "outputs": [
    {
     "name": "stdout",
     "output_type": "stream",
     "text": [
      "s1:\n",
      "  {'w', 'y', 'e', 's', 'n', 'a', 'd'}\n",
      "roster1:\n",
      "  {'jesse', 'qi', 'avik', 'laya', 'aaron'}\n"
     ]
    }
   ],
   "source": [
    "s0 = set() # Create an empty set\n",
    "s1 = set(\"wednesday\") # recall, a string is just a list of characters\n",
    "                      # s1 is an unordered collection of the unique\n",
    "                      # characters in \"wednesday\"\n",
    "print(\"s1:\\n  {}\".format(s1))\n",
    "\n",
    "# Alternate syntax for initializing a set\n",
    "roster1 = {\"aaron\", \"laya\", \"qi\", \"avik\", \"jesse\", \"aaron\"} \n",
    "print(\"roster1:\\n  {}\".format(roster1))"
   ]
  },
  {
   "cell_type": "markdown",
   "metadata": {},
   "source": [
    "**Set Intersection**:"
   ]
  },
  {
   "cell_type": "code",
   "execution_count": 43,
   "metadata": {},
   "outputs": [
    {
     "name": "stdout",
     "output_type": "stream",
     "text": [
      "roster1:\n",
      "  {'jesse', 'qi', 'avik', 'laya', 'aaron'}\n",
      "roster2:\n",
      "  {'desmond', 'qi', 'sam', 'aaron', 'matilda'}\n",
      "roster1 INTERSECT roster2:\n",
      "  {'qi', 'aaron'}\n"
     ]
    }
   ],
   "source": [
    "roster1 = {\"aaron\", \"laya\", \"qi\", \"avik\", \"jesse\", \"aaron\"} \n",
    "roster2 = {\"desmond\", \"sam\", \"aaron\", \"matilda\", \"qi\", \"aaron\"} \n",
    "\n",
    "print(\"roster1:\\n  {}\".format(roster1))\n",
    "print(\"roster2:\\n  {}\".format(roster2))\n",
    "\n",
    "roster1.intersection(roster2)\n",
    "print(\"roster1 INTERSECT roster2:\\n  {}\".format(roster1.intersection(roster2)))"
   ]
  },
  {
   "cell_type": "markdown",
   "metadata": {},
   "source": [
    "# Tuples\n",
    "\n",
    "A **tuple** is an indexable collection of values that is immutable. That is, once created, a tuple can not be changed.\n",
    "\n",
    "Tuples are most commonly used when a function needs to return multiple values. For example, `enumerate()` returns both an index and the element at that index."
   ]
  },
  {
   "cell_type": "code",
   "execution_count": null,
   "metadata": {},
   "outputs": [],
   "source": [
    "tup = (0, \"Monday\")\n",
    "\n",
    "print(tup)\n",
    "print(tup[0])\n",
    "print(tup[1])"
   ]
  },
  {
   "cell_type": "markdown",
   "metadata": {},
   "source": [
    "### Practice\n",
    "\n",
    "#### `most_frequent_char`\n",
    "\n",
    "Write a function which takes in a string and returns a tuple of the form `(most_freq_char, frequency)` where `frequency` is the number of times the `most_freq_char` appeares in the string.\n",
    "\n",
    "*Tip: Look over the [string methods](https://www.w3schools.com/python/python_strings_methods.asp) to see if any of them can help you implement this function.*"
   ]
  },
  {
   "cell_type": "code",
   "execution_count": null,
   "metadata": {},
   "outputs": [],
   "source": [
    "def most_frequent_char(str):\n",
    "    # Your implementation here\n",
    "    return (\"\",-1) # dummy return statement, put your own\n",
    "\n",
    "most_frequent_char(\"banana\")"
   ]
  }
 ],
 "metadata": {
  "kernelspec": {
   "display_name": "Python 3.9.6 64-bit",
   "language": "python",
   "name": "python3"
  },
  "language_info": {
   "codemirror_mode": {
    "name": "ipython",
    "version": 3
   },
   "file_extension": ".py",
   "mimetype": "text/x-python",
   "name": "python",
   "nbconvert_exporter": "python",
   "pygments_lexer": "ipython3",
   "version": "3.9.6"
  },
  "orig_nbformat": 4,
  "vscode": {
   "interpreter": {
    "hash": "aee8b7b246df8f9039afb4144a1f6fd8d2ca17a180786b69acc140d282b71a49"
   }
  }
 },
 "nbformat": 4,
 "nbformat_minor": 2
}
