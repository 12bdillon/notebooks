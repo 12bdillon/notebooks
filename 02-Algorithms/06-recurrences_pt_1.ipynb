{
 "cells": [
  {
   "cell_type": "markdown",
   "metadata": {},
   "source": [
    "# Recurrences\n",
    "\n",
    "We have already seen our first recurrence in our recursive analysis of selection sort. A **recurrence** expresses the behavior of and allows us to analyze recursive algorithms. Since many algorithms can be expressed and implemented recursively, recurrences are very useful for algorithm analysis.\n",
    "\n",
    "In this section, we will explore recurrences more fully and outline techniques which can be used to solve them."
   ]
  },
  {
   "attachments": {},
   "cell_type": "markdown",
   "metadata": {},
   "source": [
    "# Recursive Searching\n",
    "\n",
    "In our last notebook, we explored fundamental concepts for parallel algorithms through the lense of a divide and conquer recursive search algorithm.\n",
    "\n",
    "**Recap**\n",
    "\n",
    "At every step, the algorithm recursively searched through the left and right halfs of the list, returning `True` if the left half or right half contained the `key`."
   ]
  },
  {
   "cell_type": "code",
   "execution_count": null,
   "metadata": {},
   "outputs": [],
   "source": [
    "def search_recursive(lst, key):\n",
    "    if len(lst) == 0:\n",
    "        return False\n",
    "    if len(lst) == 1:\n",
    "        return lst[0] == key\n",
    "\n",
    "    mid = len(lst)//2\n",
    "    return search_recursive(lst[:mid], key) or search_recursive(lst[mid:], key)\n",
    "\n",
    "lst = [4, 7, 2, 8, 1, 0, 3, 9, 5, 6]\n",
    "search_recursive(lst, 3)"
   ]
  },
  {
   "attachments": {},
   "cell_type": "markdown",
   "metadata": {},
   "source": [
    "We analyzed `search_recursive` by drawing out its computation graph and considering the total work done across it and the length of the longest path through it to determine its **work** and **span** respectively. \n",
    "\n",
    "We can can alternatively (although very closely related!) analyze it by determining and solving its recurrences."
   ]
  },
  {
   "attachments": {},
   "cell_type": "markdown",
   "metadata": {},
   "source": [
    "### Work Recurrence\n",
    "\n",
    "We can note that each call recursively runs two searches on lists half of the size of the input. Outside of the recursive calls themselves, each function does constant time work.\n",
    "\n",
    "From this, we can write a recurrence for the total work of the algorithm.\n",
    "\n",
    "Given a list of size $n$, the work of `search_recursive` is:\n",
    "\n",
    "$W(n) = 2W(n/2) + O(1)$\n",
    "\n",
    "Before we get into how to solve this recurrence, let's quickly talk about the general form for all recurrences."
   ]
  },
  {
   "attachments": {},
   "cell_type": "markdown",
   "metadata": {},
   "source": [
    "# General Recurrences\n",
    "\n",
    "Above, there were three key facts that we used to write down the recurrence:\n",
    "\n",
    "1) The number of subproblems generated at every step\n",
    "2) The size of each subproblem\n",
    "3) The work within each function outside of the recursive calls\n",
    "\n",
    "> The last part is often referred to as the cost of the combination step, but it can include other work as well, such as the cost of splitting the problem into parts. In `search_recursive`, the combination step is taking the `or` of the results of the two recursive calls.\n",
    "\n",
    "The general form of a recurrence is:\n",
    "\n",
    "$$W(n) = aW(\\frac{n}{b}) + f(n)$$\n",
    "\n",
    "- $a$ is the number of subproblems.\n",
    "- $\\frac{n}{b}$ gives us the sub-problem size at the next level.\n",
    "- $f(n)$ is the cost of the combination step."
   ]
  },
  {
   "attachments": {},
   "cell_type": "markdown",
   "metadata": {},
   "source": [
    "# Solving Recurrences\n",
    "\n",
    "## Recursion Trees\n",
    "\n"
   ]
  },
  {
   "cell_type": "markdown",
   "metadata": {},
   "source": [
    "\n",
    "\n",
    "## Work of Recursive Search\n",
    "\n",
    "## Span of Recursive Search"
   ]
  },
  {
   "cell_type": "markdown",
   "metadata": {},
   "source": [
    "# Binary Search"
   ]
  }
 ],
 "metadata": {
  "kernelspec": {
   "display_name": "Python 3.9.6 64-bit",
   "language": "python",
   "name": "python3"
  },
  "language_info": {
   "name": "python",
   "version": "3.9.6 (v3.9.6:db3ff76da1, Jun 28 2021, 11:49:53) \n[Clang 6.0 (clang-600.0.57)]"
  },
  "orig_nbformat": 4,
  "vscode": {
   "interpreter": {
    "hash": "aee8b7b246df8f9039afb4144a1f6fd8d2ca17a180786b69acc140d282b71a49"
   }
  }
 },
 "nbformat": 4,
 "nbformat_minor": 2
}
