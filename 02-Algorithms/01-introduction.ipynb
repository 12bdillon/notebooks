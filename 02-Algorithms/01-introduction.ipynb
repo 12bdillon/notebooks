{
 "cells": [
  {
   "cell_type": "markdown",
   "metadata": {},
   "source": [
    "# Introduction to Algorithm Analysis\n",
    "\n",
    "Our computers are limited less by the power of their hardware and more by the efficiency of the algorithms that we run on them.\n",
    "\n",
    "What is an algorithm?\n",
    "\n",
    ">  an explicit, precise, unambiguous, mechanically-executable sequence of elementary instructions, usually intended to accomplish a specific purpose.\n",
    "\n",
    "-- [Jeff Erickson](https://jeffe.cs.illinois.edu/teaching/algorithms/)\n",
    "\n",
    "Algorithms are independent of any programming language or any computer they may be executed on. For example, [Euclid's algorithm](https://en.wikipedia.org/wiki/Algorithm) for calculating greatest common divisors has clearly existed long before modern computers were invented. \n",
    "\n",
    "Our study of algorithms will be both practical and theoretical. \n",
    "\n",
    "Practically, experience in designing algorithms and fluency with existing algorithms makes one a better problem solver. The best computer programmers and computer scientists tend to be the best problem solvers.\n",
    "\n",
    "Theoretically, we will build up the ability to analyze algorithms. There can be multiple algorithms to solve the same problem. Which are most efficient? Efficient algorithms can solve larger problems and are more powerful than their less efficient variants.\n",
    "\n",
    "How will we study algorithms?\n",
    "\n",
    "In our exploration of algorithms, we will examine practical examples. We'll look at existing algorithms and use them to establish our theoretical foundation for algorithm analysis. Along the way, we will introduce notations for algorithmic efficiency, algorithm design paradigms, and even the study of parallel algorithms."
   ]
  },
  {
   "cell_type": "markdown",
   "metadata": {},
   "source": [
    "## A First Algorithm"
   ]
  },
  {
   "cell_type": "code",
   "execution_count": null,
   "metadata": {},
   "outputs": [],
   "source": [
    "def linear_search(mylist, key):\n",
    "    \"\"\"\n",
    "    Args:\n",
    "      mylist...a list\n",
    "      key......a search key\n",
    "    Returns:\n",
    "      index of key in mylist; -1 if not present\n",
    "    \"\"\"\n",
    "    for i in range(len(mylist)):\n",
    "        if mylist[i] == key:\n",
    "            return i\n",
    "    return -1\n",
    " \n",
    "linear_search([5,1,10,7,12,4,2], 12)"
   ]
  },
  {
   "cell_type": "markdown",
   "metadata": {},
   "source": [
    "What does this algorithm do?\n",
    "\n",
    "It searches through a list for a key by examining each element, one at a time. When it finds the key, it returns its index. If it doesn't find the key, it returns `-1`."
   ]
  },
  {
   "cell_type": "markdown",
   "metadata": {},
   "source": [
    "What factors affect it's runtime?\n",
    "\n",
    "- Input **size**\n",
    "- Input **values**: is key at start or end?\n",
    "- Hardware!\n",
    "  - TI-85 vs. Supercomputer"
   ]
  },
  {
   "cell_type": "markdown",
   "metadata": {},
   "source": [
    "For comparing algorithms, we want a universal way to compare them, a way that is independent of the hardware that they are, or ever will, be run on.\n",
    "\n",
    "We want to be able to say that algorithm $A$ is more efficient than $B$ irrespective of any details of hardware."
   ]
  },
  {
   "cell_type": "markdown",
   "metadata": {},
   "source": [
    "## A Universal Framework for Analyzing Algorithms\n",
    "\n",
    "If you execute the exact same program with the exact same input on two different computers, you will get different runtimes. For that matter, if you run the same program with the same input multiple times on the same computer, you will also get different runtimes due to different states of the computer at the times when it is run.\n",
    "\n",
    "Despite the different runtimes, the number of instructions executed didn't change. This is the key.\n",
    "\n",
    "Rather than evaluating algorithms based on their [\"wall-time\"](https://en.wikipedia.org/wiki/Elapsed_real_time), we can focus on the number of operations required to complete them.\n",
    "\n",
    "By counting the operations performed by an algorithm, we have a way of analyzing \"runtime\" independent of any hardware.\n",
    "\n",
    "> **Terminology Note**: When we refer to the \"runtime\" of an algoritm, we actually mean the number of operations performed by that algorithm. \n",
    "\n",
    "While this allows us to abstract the hardware away from our consideration, the \"runtime\" still depends on the size of the problem and the particular values of the input.\n",
    "\n",
    "Factors affecting our analysis:\n",
    "\n",
    "- Input **size**\n",
    "- Input **values**\n",
    "- ~~Hardware~~\n",
    "\n",
    "To keep our analysis as simple as possible, we'll also abstract away particular input values. How?\n",
    "\n",
    "Consider linear search above. What are the best and worst case inputs with respect to runtime?\n",
    "\n",
    "If the key is in the beginning of the list, the runtime is as small as possible. The algorithm checks the first element and immediately returns. If the key is not in the list, the runtime is maximal. Every element must be checked before the algorithm returns.\n",
    "\n",
    "We want to ignore having to determine and consider all possible cases for potential input. We'll do this by only considering one, the worst possible case. For linear search, we will assume that it will take as long as possible, namely that the key isn't in the list, and we will express the runtime for that situation.\n",
    "\n",
    "You may be wondering: Why assume the worst case as opposed to the best or some average case for runtime? \n",
    "\n",
    "Assuming the worst case allows us to provide guarantees on runtime. It is stronger to say that an algorithm will take no longer than $X$ rather than to say that it could run as quickly as $Y$. This is what we care about as users of algorithms and computer anyway. It is the lag in a game that is the problem, not when it runs smoothly and flawlessly.\n",
    "\n",
    "Factors affecting our analysis:\n",
    "\n",
    "- **Input size**\n",
    "- ~~Input **values**~~\n",
    "- ~~Hardware~~"
   ]
  },
  {
   "cell_type": "markdown",
   "metadata": {},
   "source": [
    "## Algorithm Analysis\n",
    "\n",
    "With all that said, we finally have a framework for analyzing algorithms.\n",
    "\n",
    "> When **analyzing an algorithm**, we want to calculate, assuming the **worst case** input for the execution of the algorithm, the the number operations performed as a function of the input problem size.\n",
    "\n",
    "This is a mouthful. Let's put it into practice."
   ]
  },
  {
   "cell_type": "markdown",
   "metadata": {},
   "source": [
    "## Linear Search Analysis\n",
    "\n"
   ]
  },
  {
   "cell_type": "markdown",
   "metadata": {},
   "source": [
    "To perform our analysis, we will annotate linear search. We will assume that each instructions has some cost which we denote by some corresponding constant.\n",
    "\n",
    "The idea then is to tally up how many times each instruction will run."
   ]
  },
  {
   "cell_type": "code",
   "execution_count": null,
   "metadata": {},
   "outputs": [],
   "source": [
    "def linear_search(mylist, key):        #   cost         number of times run\n",
    "    for i in range(len(mylist)):       #   c1               ?\n",
    "        if mylist[i] == key:           #   c2               ?\n",
    "            return i                   #   c3               ?\n",
    "    return -1                          #   c4               ?"
   ]
  },
  {
   "cell_type": "markdown",
   "metadata": {},
   "source": [
    "How do we know how many times each instruction is run?\n",
    "\n",
    "First of, the loop executes as many times as there are elements in `mylist`.\n",
    "\n",
    "For simplicity, let \n",
    "\n",
    "$n = \\hbox{len(mylist)}$.\n",
    "\n",
    "Also, recall, we care about the worst case. For linear search, the worst case is if the `key` is not in the list. In the worst case: \n",
    "\n",
    "- the `return` on line $4$ will *never* execute\n",
    "- the `return` on line $5$ will execute exactly *once*\n",
    "- the condition on line $3$ will be executed $n$ times\n",
    "- the `for` loop line will execute $n$ time"
   ]
  },
  {
   "cell_type": "code",
   "execution_count": null,
   "metadata": {},
   "outputs": [],
   "source": [
    "def linear_search(mylist, key):        #   cost         number of times run\n",
    "    for i in range(len(mylist)):       #   c1               n\n",
    "        if mylist[i] == key:           #   c2               n\n",
    "            return i                   #   c3               0\n",
    "    return -1                          #   c4               1"
   ]
  },
  {
   "cell_type": "markdown",
   "metadata": {},
   "source": [
    "The total cost for `linear_search`, $W(n)$, where $W$ stands for the work done by the algorithm, is thus:\n",
    "\n",
    "$W(n) = c_1n + c_2n + c_4$"
   ]
  },
  {
   "cell_type": "markdown",
   "metadata": {},
   "source": [
    "$W(n)$ expresses how the work of linear search grows as a function of the size of the input."
   ]
  },
  {
   "cell_type": "markdown",
   "metadata": {},
   "source": [
    "### What about long programs?\n",
    "\n",
    "You may be wondering, isn't this tedious? Do we really need to perform this detailed analysis on all implementations of all algorithms? And wait, if we assign a cost constant to all instructions, isn't this still dependent on hardware since different hardwares will support different instructions at different costs?\n",
    "\n",
    "I say, whoa! That's a good barrage of questions. The answers to all your very astute questions are:\n",
    "\n",
    "Yes, no, and um.. well yes. Yes, this is tedious. No, we will not need to do this detailed annotation and analysis for all programs. Yes, we have baked in constants to account for differeing costs of instructions which will depend on hardware, but(!), We will finally get around this in the next notebook. We will introduce a framework that allows us to simplify our analysis and ignore all hardware dependent constants by focusing on what really matters, growth rates."
   ]
  }
 ],
 "metadata": {
  "kernelspec": {
   "display_name": "Python 3.9.6 64-bit",
   "language": "python",
   "name": "python3"
  },
  "language_info": {
   "name": "python",
   "version": "3.9.6 (v3.9.6:db3ff76da1, Jun 28 2021, 11:49:53) \n[Clang 6.0 (clang-600.0.57)]"
  },
  "orig_nbformat": 4,
  "vscode": {
   "interpreter": {
    "hash": "aee8b7b246df8f9039afb4144a1f6fd8d2ca17a180786b69acc140d282b71a49"
   }
  }
 },
 "nbformat": 4,
 "nbformat_minor": 2
}
