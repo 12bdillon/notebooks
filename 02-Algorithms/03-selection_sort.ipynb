{
 "cells": [
  {
   "attachments": {},
   "cell_type": "markdown",
   "metadata": {},
   "source": [
    "# Sorting\n",
    "\n",
    "Armed with Big-Oh notation, now we will design and examine a more substantial algorithm, one to perform a fundamental task for computers: sorting.\n",
    "\n",
    "A quick search for sorting algorithms will reveal many of them: [Wikipedia - Sorting Algorithm](https://en.wikipedia.org/wiki/Sorting_algorithm)"
   ]
  },
  {
   "attachments": {},
   "cell_type": "markdown",
   "metadata": {},
   "source": [
    "## Our purpose in studying sorting\n",
    "\n",
    "Sorting algorithms are crucial and fundamentally applicable to computing in general, but for us, we will use them as an opportunity think about different problem solving strategies, and to hone our algorithm analysis ability.\n",
    "\n",
    "After a first pass at solving the sorting problem, we will see later on in this module, after accumulating some powerful analysis tools, that by applying a different paradigm towards algorithm design, we are able to make inroads in the efficiency of our algorithm."
   ]
  },
  {
   "attachments": {},
   "cell_type": "markdown",
   "metadata": {},
   "source": [
    "## The Sorting Problem\n",
    "\n",
    "> Given a sequence of $n$ numbers <$a_1$, $a_2$,...,$a_n$>, return a permutation of the input sequence <$a_1'$, $a_2'$,...,$a_n'$> such that $a_1' \\leq a_2' \\leq ... \\leq a_n'$."
   ]
  },
  {
   "attachments": {},
   "cell_type": "markdown",
   "metadata": {},
   "source": [
    "If you were to stop and design an algorithm to solve this problem yourself, you may invent one of the many algorithms listed on Wikipedia, or you may invent something new, completely your own. There are many ways to solve every problem. Our goal as algorithm designers is to design the most efficient algorithm possible for any given problem. Although, I will admit, our first goal is usually just to get a working algorithm for the problem at hand.\n"
   ]
  },
  {
   "attachments": {},
   "cell_type": "markdown",
   "metadata": {},
   "source": [
    "### Sorting Algorithm Proposal\n",
    "\n",
    "Let's start by thinking about the desired output. What is true about the element $a_1'$ with respect to all other elements? I think you'll agree that it must be the smallest!\n",
    "\n",
    "Given an unsorted list, we can get one step closer to a sorted list by finding the smallest element in the list and swapping it into the first position.\n",
    "\n",
    "Now that the smallest element is in its place we can think about the next step. Just as before, we know that $a_2'$ is the second smallest element in the list, except now we know that the smallest element is already in the first position. Therefore we can find the second smallest element in the tail of the list from position two to the end. Once we find it, swap it into position.\n",
    "\n",
    "Now you get the idea. You may have gotten it already and I gone on too far! We continue this process until we work our way through the entire list. To put it succincly, for every position, we select the element that belongs there and swap it into place. This algorithm is called **Selection Sort**."
   ]
  },
  {
   "cell_type": "code",
   "execution_count": 6,
   "metadata": {},
   "outputs": [
    {
     "name": "stdout",
     "output_type": "stream",
     "text": [
      "[2, 1, 4, 3, 9]\n",
      "[1, 2, 4, 3, 9]\n",
      "[1, 2, 4, 3, 9]\n",
      "[1, 2, 3, 4, 9]\n",
      "[1, 2, 3, 4, 9]\n"
     ]
    },
    {
     "data": {
      "text/plain": [
       "[1, 2, 3, 4, 9]"
      ]
     },
     "execution_count": 6,
     "metadata": {},
     "output_type": "execute_result"
    }
   ],
   "source": [
    "def selection_sort(L):\n",
    "    for pos in range(len(L)):\n",
    "        print(L)\n",
    "        index_of_min = pos\n",
    "        for index in range(pos,len(L)):\n",
    "            element = L[index]\n",
    "            if element < L[index_of_min]:\n",
    "                index_of_min = index\n",
    "        L[pos], L[index_of_min] = L[index_of_min], L[pos]\n",
    "    return L\n",
    "\n",
    "selection_sort([2, 1, 4, 3, 9])"
   ]
  }
 ],
 "metadata": {
  "kernelspec": {
   "display_name": "Python 3.9.6 64-bit",
   "language": "python",
   "name": "python3"
  },
  "language_info": {
   "codemirror_mode": {
    "name": "ipython",
    "version": 3
   },
   "file_extension": ".py",
   "mimetype": "text/x-python",
   "name": "python",
   "nbconvert_exporter": "python",
   "pygments_lexer": "ipython3",
   "version": "3.9.6 (v3.9.6:db3ff76da1, Jun 28 2021, 11:49:53) \n[Clang 6.0 (clang-600.0.57)]"
  },
  "orig_nbformat": 4,
  "vscode": {
   "interpreter": {
    "hash": "aee8b7b246df8f9039afb4144a1f6fd8d2ca17a180786b69acc140d282b71a49"
   }
  }
 },
 "nbformat": 4,
 "nbformat_minor": 2
}
