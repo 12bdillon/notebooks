{
 "cells": [
  {
   "cell_type": "markdown",
   "metadata": {},
   "source": [
    "# Recursion\n",
    "\n",
    "To continue our discussion of algorithms, we must first take a quick break and introduce a new programming technique. It is often useful and natural to want to have a function call on itself. Having a function call on itself is known as **recursion**, and using this technique will make algorithm design and analysis simpler in many cases.\n",
    "\n",
    "In this section, we will introduce recursion and then revisit selection sort leveraging this technique."
   ]
  }
 ],
 "metadata": {
  "language_info": {
   "name": "python"
  },
  "orig_nbformat": 4
 },
 "nbformat": 4,
 "nbformat_minor": 2
}
