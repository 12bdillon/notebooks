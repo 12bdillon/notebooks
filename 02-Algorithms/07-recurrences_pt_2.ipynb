{
 "cells": [
  {
   "attachments": {},
   "cell_type": "markdown",
   "metadata": {},
   "source": [
    "# The Brick Method\n",
    "\n",
    "Having established one technique for solving recurrences, let's now build an intuition for the behavior of recursion trees, and introduce a second technique, one that leverages our intuition and is easier to solve!\n",
    "\n",
    "This technique is referred to as the Brick Method."
   ]
  },
  {
   "attachments": {},
   "cell_type": "markdown",
   "metadata": {},
   "source": [
    "## Warmup\n",
    "\n",
    "When solving recurrences using recursion trees, we are summing up the work over all levels of the tree.\n",
    "\n",
    "We've now seen and worked through several examples of these:\n",
    "\n",
    "- $W(n) = 2W(n/2) + 1$\n",
    "\n",
    "- $W(n) = 4W(n/2) + n^2$\n",
    "\n",
    "- $W(n) = 2W(n/2) + \\sqrt n$\n",
    "\n",
    "As a warmup, I recommend that you re-solve each of these, fresh, without referring back to their solutions in the notes and previous video.\n",
    "\n",
    "I also recommend that you solve:\n",
    "\n",
    "- $W(n) = 2W(n/2) + n^2$\n",
    "\n",
    "Once done, continue forward with these notes."
   ]
  },
  {
   "attachments": {},
   "cell_type": "markdown",
   "metadata": {},
   "source": [
    "# Patterns in Trees"
   ]
  },
  {
   "attachments": {},
   "cell_type": "markdown",
   "metadata": {},
   "source": [
    "It is easy to get lost in the details of a tree, but if we step back for a second, you might notice that the work down the levels of the tree often follows one of a handful of patterns.\n"
   ]
  },
  {
   "attachments": {},
   "cell_type": "markdown",
   "metadata": {},
   "source": [
    "## Decreasing Work\n",
    "\n",
    "Sometimes, it is geometrically decreasing over the levels going down the tree. \n",
    "\n",
    "For example, let's examine the recurrence $W(n) = 2W(n/2) + n^2$:\n",
    "\n",
    "<img src = \"figures/root-dom.jpeg\" width = \"100%\">"
   ]
  },
  {
   "attachments": {},
   "cell_type": "markdown",
   "metadata": {},
   "source": [
    "In this case, we can see that the work is decreasing as we go down the levels of the tree.\n",
    "\n",
    "Specifically, it is decreasing by a geometric factor $\\alpha = \\frac{1}{2}$."
   ]
  },
  {
   "attachments": {},
   "cell_type": "markdown",
   "metadata": {},
   "source": [
    "Recalling Geometric Series:\n",
    "\n",
    "> - For $\\alpha > 1$: $\\:\\:\\: \\sum_{i=0}^n \\alpha^i  < \\frac{\\alpha}{\\alpha - 1}\\cdot\\alpha^n$\n",
    "> <br>\n",
    ">\n",
    ">- For $\\alpha < 1$: $\\:\\:\\: \\sum_{i=0}^\\infty \\alpha^i  < \\frac{1}{1-\\alpha}$\n",
    "><br>\n",
    ">"
   ]
  },
  {
   "attachments": {},
   "cell_type": "markdown",
   "metadata": {},
   "source": [
    "Since $\\alpha = \\frac{1}{2}$ which is $< 1$, the whole summation works out to be a constant and:\n",
    "\n",
    "$W(n) = c*n^2$\n",
    "\n",
    "$W(n) \\in \\Theta(n^2)$"
   ]
  },
  {
   "attachments": {},
   "cell_type": "markdown",
   "metadata": {},
   "source": [
    "For our purposes, if the work is decreasing geometrically, the whole summation will evaluate to a constant and be dropped, leaving only the work of the **root** node. \n",
    "\n",
    "Another way of thinking about this is that since the work is decreasing as we go down the tree, the work of the whole tree is dominated by the work of the root of the whole tree."
   ]
  },
  {
   "attachments": {},
   "cell_type": "markdown",
   "metadata": {},
   "source": [
    "## Staying the Same"
   ]
  },
  {
   "attachments": {},
   "cell_type": "markdown",
   "metadata": {},
   "source": [
    "Sometimes, the work is the same over every level of the tree.\n",
    "\n",
    "For example, let's examine the recurrence $W(n) = 4W(n/2) + n^2$:\n",
    "\n",
    "<img src = \"figures/quadratic-recurrence.jpeg\" width = \"100%\">"
   ]
  },
  {
   "attachments": {},
   "cell_type": "markdown",
   "metadata": {},
   "source": [
    "In this example, the work is $n^2$ for every level of the tree. We can write down the summation, but this is trivial to solve!\n",
    "\n",
    "The work of the whole tree is just $n^2*\\text{num\\_levels}$.\n",
    "\n",
    "Since the division factor is $2$, there are $\\log_2 n$ levels.\n",
    "\n",
    "$W(n) \\in \\Theta(n^2\\log_2 n)$"
   ]
  },
  {
   "attachments": {},
   "cell_type": "markdown",
   "metadata": {},
   "source": [
    "## Increasing Work\n",
    "\n",
    "Finally, it is possible that the work is increasing as we look down the tree.\n",
    "\n",
    "For example, for the recurrence $W(n) = 2W(n/2) + \\sqrt n$, its tree is:\n",
    "\n",
    "<img src = \"figures/leaf-dom.jpeg\" width = \"100%\">"
   ]
  },
  {
   "attachments": {},
   "cell_type": "markdown",
   "metadata": {},
   "source": [
    "In this case, the work is increasing by a factor of $\\sqrt 2$ per level.\n",
    "\n",
    "The work over the entire tree will be bounded then by the work done across the bottom level, the leaves.\n",
    "\n",
    "To calculate it, we just need to calculate how many leaves there are since each leave represents a base case which does $O(1)$ work.\n",
    "\n",
    "The number of nodes on any individual level is $a^i$ where $a$ is the branching factor and $i$ is the level.\n",
    "\n",
    "The bottom level of the tree is $\\log_2 n$.\n",
    "\n",
    "The number of leaves is thus:\n",
    "\n",
    "$2^{\\log_2 n} = n$ \n",
    "\n",
    "> For a general tree with a branching factor of $a$ and division factor of $b$, the number of leaves is $a^{\\log_b n}$ which we normally then rewrite as $n^{\\log_b a}$ using our [log properies](reference/logs-exponents-series.pdf).\n",
    "\n",
    "In this case, $2$ raised to $\\log_2$ cancels out.\n",
    "\n",
    "$W(n) \\in \\Theta(n)$\n",
    "\n",
    "which matches exactly what we calculated before!\n",
    "\n"
   ]
  },
  {
   "cell_type": "markdown",
   "metadata": {},
   "source": [
    "## The Three Cases"
   ]
  },
  {
   "attachments": {},
   "cell_type": "markdown",
   "metadata": {},
   "source": [
    "We've explored three cases where solving a recurrence is very simple.\n",
    "\n",
    "#### 1) Root Dominated\n",
    "\n",
    "The work down the levels of the tree is decreasing by a geometric factor.\n",
    "\n",
    "In this case, the work is dominated by the work of the root, and the runtime of the entire algorithm is the work of the root.\n",
    "\n",
    "These trees are referred to as **root dominated** trees.\n",
    "\n",
    "#### 2) Balanced\n",
    "\n",
    "The work is the same across all levels.\n",
    "\n",
    "In this case, the work of the whole tree is $\\text{work\\_of\\_each\\_level}*\\text{num\\_levels}$.\n",
    "\n",
    "These trees are referred to as **Balanced** trees.\n",
    "\n",
    "#### 3) Leaf Dominated\n",
    "\n",
    "The work is increasing geometrically down the tree.\n",
    "\n",
    "The work is dominated by the leaves, and the runtime is equal to the number of leaves in the tree.\n",
    "\n",
    "These trees are referred to as **Leaf Dominated** trees."
   ]
  },
  {
   "attachments": {},
   "cell_type": "markdown",
   "metadata": {},
   "source": [
    "# The Brick Method\n",
    "\n",
    "The process for applying the brick method is thus:\n",
    "\n",
    "1) Draw out a few levels of the tree.\n",
    "\n",
    "2) Determine the work over those levels.\n",
    "\n",
    "3) Identify if any of the three cases apply; if so, write down the work of the tree accordingly\n",
    "\n",
    "> It is possible that none of these cases apply. The brick method applies if the tree is balanced or if the work is increasing/decreasing **geometrically**. If the pattern is not geometric, then the brick method does not apply and the summation will have to be solved."
   ]
  },
  {
   "attachments": {},
   "cell_type": "markdown",
   "metadata": {},
   "source": [
    "## Practice\n",
    "\n",
    "For practice applying the Brick Method, solve the following recurrences:\n",
    "\n",
    "- $W(n) = 5 W(n/4) + n$\n",
    "\n",
    "- $W(n) = 3 W(n/2) + n$\n",
    "\n",
    "- $W(n) = 2 W(n/3) + 1$\n",
    "\n",
    "- $W(n) = 2 W(n/3) + n$\n",
    "\n",
    "- $W(n) = 3 W(n/3) + n$\n",
    "\n",
    "- $W(n) = 8W(n/2) + n^3$\n",
    "\n"
   ]
  },
  {
   "attachments": {},
   "cell_type": "markdown",
   "metadata": {},
   "source": [
    "## Lagniappe ([\"a little something extra\"](https://en.wikipedia.org/wiki/Lagniappe))\n",
    "\n",
    "Related to the Brick Method is the Master Method. The Master Method applies to recurrences of the form:\n",
    "\n",
    "$$W(n) = aW(n/b) + n^c$$\n",
    "\n",
    "It takes the same trends used in the Brick Method and gives three quick rules to write down the runtime based on the parameters of the recurrence alone.\n",
    "\n",
    "### The Master Method\n",
    "\n",
    "Given a recurrence $W(n) = aW(n/b) + n^c$:\n",
    "\n",
    "$$\n",
    "W(n) \\in\n",
    "\\begin{cases}\n",
    "  \\Theta(n^c)  & \\text{if}~~ c > \\log_b a \\\\\n",
    "  \\Theta(n^c\\log_b n)  & \\text{if}~~ c = \\log_b a \\\\\n",
    "  \\Theta(n^{\\log_b a})  & \\text{if}~~ c < \\log_b a\n",
    "\\end{cases}\n",
    "$$\n",
    "\n",
    "Why is this true? This is a fun thing to work out, and doing so will give you an even deeper understanding of these trees.\n",
    "\n",
    "The key, as implied by the definition above, is to consider the relationship between $c$ and $\\log_b a$. \n",
    "\n",
    "How does a general recursion tree work out in each of those cases? \n",
    "\n",
    "To derive the Master Method, draw the recursion tree for $W(n) = aW(n/b) + n^c$, and solve it for each of the three cases:\n",
    "\n",
    "- $c > \\log_b a$\n",
    "- $c = \\log_b a$\n",
    "- $c < \\log_b a$"
   ]
  }
 ],
 "metadata": {
  "kernelspec": {
   "display_name": "Python 3",
   "language": "python",
   "name": "python3"
  },
  "language_info": {
   "name": "python",
   "version": "3.11.4"
  },
  "orig_nbformat": 4,
  "vscode": {
   "interpreter": {
    "hash": "aee8b7b246df8f9039afb4144a1f6fd8d2ca17a180786b69acc140d282b71a49"
   }
  }
 },
 "nbformat": 4,
 "nbformat_minor": 2
}
