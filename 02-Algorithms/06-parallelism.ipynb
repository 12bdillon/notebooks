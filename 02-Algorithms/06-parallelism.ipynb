{
 "cells": [
  {
   "cell_type": "markdown",
   "metadata": {},
   "source": [
    "# Parallelism\n",
    "\n",
    "More efficient algorithms are more powerful algorithms in that they can solve larger problems than can less efficient versions of them. Many of our world's most important problems require tremendous computational power, more than any individual CPU could provide in any reasonable timeframe. \n",
    "\n",
    "A parallel algorithm is one in which independent parts of the problem can be solved concurrently and their solutions combined into a final solution. Parallel algorithms spread their work over multiple cores, allowing computational resources to be used more effectively and larger problems to be solved in the same timeframe.\n",
    "\n",
    "In this section, we will introduce parallel algorithms and fundamental concepts for designing and analyzing them. \n",
    "\n",
    "\n"
   ]
  }
 ],
 "metadata": {
  "kernelspec": {
   "display_name": "Python 3.9.6 64-bit",
   "language": "python",
   "name": "python3"
  },
  "language_info": {
   "name": "python",
   "version": "3.9.6"
  },
  "orig_nbformat": 4,
  "vscode": {
   "interpreter": {
    "hash": "aee8b7b246df8f9039afb4144a1f6fd8d2ca17a180786b69acc140d282b71a49"
   }
  }
 },
 "nbformat": 4,
 "nbformat_minor": 2
}
