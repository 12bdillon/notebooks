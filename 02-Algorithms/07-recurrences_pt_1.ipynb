{
 "cells": [
  {
   "cell_type": "markdown",
   "metadata": {},
   "source": [
    "# Recurrences\n",
    "\n",
    "We have already seen our first recurrence in our recursive analysis of selection sort. A **recurrence** expresses the behavior of and allows us to analyze recursive algorithms. Since many algorithms can be expressed and implemented recursively, recurrences are very useful for algorithm analysis.\n",
    "\n",
    "In this section, we will explore recurrences more fully and outline techniques which can be used to solve them."
   ]
  },
  {
   "cell_type": "markdown",
   "metadata": {},
   "source": [
    "# Recursive List Sum"
   ]
  },
  {
   "cell_type": "markdown",
   "metadata": {},
   "source": [
    "# General Recurrences"
   ]
  },
  {
   "cell_type": "markdown",
   "metadata": {},
   "source": [
    "# The Tree Method\n",
    "\n",
    "## Work of Recursive List Sum\n",
    "\n",
    "## Span of Recursive List Sum"
   ]
  },
  {
   "cell_type": "markdown",
   "metadata": {},
   "source": [
    "# Binary Search"
   ]
  }
 ],
 "metadata": {
  "kernelspec": {
   "display_name": "Python 3.9.6 64-bit",
   "language": "python",
   "name": "python3"
  },
  "language_info": {
   "name": "python",
   "version": "3.9.6"
  },
  "orig_nbformat": 4,
  "vscode": {
   "interpreter": {
    "hash": "aee8b7b246df8f9039afb4144a1f6fd8d2ca17a180786b69acc140d282b71a49"
   }
  }
 },
 "nbformat": 4,
 "nbformat_minor": 2
}
