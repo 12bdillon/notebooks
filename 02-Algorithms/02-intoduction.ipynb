{
 "cells": [
  {
   "cell_type": "markdown",
   "metadata": {},
   "source": [
    "# Introduction to Algorithm Analysis\n",
    "\n",
    "Our computers are limited less by the power of their hardware and more by the efficiency of the algorithms that we run on them.\n",
    "\n",
    "An **algorithm** is a set of steps to perform some task. Algorithms are independent of any programming language they may be implemented in or any computer they may be executed on. For example, [Euclid's algorithm](https://en.wikipedia.org/wiki/Algorithm) for calculating greatest common divisors has clearly existed long before computers were ever invented. \n",
    "\n",
    "Our study of algorithms will be both practical and theoretical. Practically, experience in designing algorithms and fluency with existing algorithms makes one a better problem solver. The best computer programmers and computer scientists tend to be the best problem solvers.\n",
    "\n",
    "Theoretically, we will build up the ability to analyze algorithms. There can be multiple algorithms to solve the same problem. Which are most efficient? Efficient algorithms can solve larger problems. Efficient algorithms are more powerful than their less efficient variants.\n",
    "\n",
    "In our exploration of algorithms, we will examine practical examples. We'll look at existing algorithms and use them to establish our theoretical foundation for algorithm analysis. Along the way, we will introduce notations used for measuring algorithm efficiency, algorithm design paradigms, and even introduce the study of parallel algorithms."
   ]
  },
  {
   "cell_type": "markdown",
   "metadata": {},
   "source": [
    "## A First Algorithm\n",
    "\n",
    "Linear Search"
   ]
  }
 ],
 "metadata": {
  "kernelspec": {
   "display_name": "Python 3.9.6 64-bit",
   "language": "python",
   "name": "python3"
  },
  "language_info": {
   "name": "python",
   "version": "3.9.6"
  },
  "orig_nbformat": 4,
  "vscode": {
   "interpreter": {
    "hash": "aee8b7b246df8f9039afb4144a1f6fd8d2ca17a180786b69acc140d282b71a49"
   }
  }
 },
 "nbformat": 4,
 "nbformat_minor": 2
}
