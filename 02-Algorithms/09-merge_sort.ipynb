{
 "cells": [
  {
   "cell_type": "markdown",
   "metadata": {},
   "source": [
    "# Efficient Sorting\n",
    "\n",
    "In this section, we will pull together everything we have learned in this algorithms module. **Merge Sort** is a parallelizable, divide and conquer algorithm which achieves the optimal time for general sorting algorithms."
   ]
  }
 ],
 "metadata": {
  "language_info": {
   "name": "python"
  },
  "orig_nbformat": 4
 },
 "nbformat": 4,
 "nbformat_minor": 2
}
