{
 "cells": [
  {
   "cell_type": "markdown",
   "metadata": {},
   "source": [
    "# Representing Text\n",
    "\n",
    "We refer to text in a program as a **string**. Text is a *string* of characters.\n",
    "\n",
    "As we’ve seen, we can convert from integers to strings and from strings to integers (as long as the string represents a valid int).\n",
    "\n",
    "There is a lot of functionality built around strings in Python. The most important functionality is highlighted here.\n"
   ]
  },
  {
   "cell_type": "markdown",
   "metadata": {},
   "source": [
    "## Indexing and Slicing\n",
    "\n",
    "As a string is just a string of characters, we can select and access individual characters by specifying their location. We refer to the location as an **index** and we start counting from `0`. The first character is at index `0`.\n"
   ]
  },
  {
   "cell_type": "code",
   "execution_count": 1,
   "metadata": {},
   "outputs": [
    {
     "name": "stdout",
     "output_type": "stream",
     "text": [
      "r\n",
      "a\n",
      "!\n"
     ]
    }
   ],
   "source": [
    "string = \"racecar!\"\n",
    "num_chars = len(string) # get the length of the string\n",
    "\n",
    "first_character = string[0]\n",
    "print(first_character)\n",
    "\n",
    "second_character = string[1]\n",
    "print(second_character)\n",
    "\n",
    "last_character = string[num_chars-1]\n",
    "print(last_character)"
   ]
  },
  {
   "cell_type": "markdown",
   "metadata": {},
   "source": [
    "We use the square bracket notation to specify the position of the character to access.\n",
    "\n",
    "Using string slicing, it is also possible to select substrings of a string:\n"
   ]
  },
  {
   "cell_type": "code",
   "execution_count": 2,
   "metadata": {},
   "outputs": [
    {
     "name": "stdout",
     "output_type": "stream",
     "text": [
      "race\n",
      "car\n"
     ]
    }
   ],
   "source": [
    "string = \"racecar!\"\n",
    "# Extract characters 0-3, ending index is not inclusive\n",
    "part1 = string[0:4]\n",
    "# Extract characters 4-6\n",
    "part2 = string[4:7]\n",
    "print(part1) # \"race\"\n",
    "print(part2) # \"car\"\n"
   ]
  },
  {
   "cell_type": "code",
   "execution_count": 3,
   "metadata": {},
   "outputs": [
    {
     "name": "stdout",
     "output_type": "stream",
     "text": [
      "race\n",
      "car!\n"
     ]
    }
   ],
   "source": [
    "# Shorthand, omitting starting or ending position will default to\n",
    "# starting from the beginning or going to the end respectively\n",
    "part1 = string[:4] \n",
    "part2 = string[4:] \n",
    "print(part1) # \"race\"\n",
    "print(part2) # \"car!\""
   ]
  },
  {
   "cell_type": "markdown",
   "metadata": {},
   "source": [
    "This only scratches the surface. Python has powerful string processing features. For example: "
   ]
  },
  {
   "cell_type": "code",
   "execution_count": 4,
   "metadata": {},
   "outputs": [
    {
     "name": "stdout",
     "output_type": "stream",
     "text": [
      "Race Car!\n"
     ]
    }
   ],
   "source": [
    "part1 = \"race\"\n",
    "part2 = \"car!\"\n",
    "# Concatenate and print \"Race Car!\"\n",
    "print(part1[0].upper()+part1[1:] + \" \" + part2[0].upper()+part2[1:])\n"
   ]
  },
  {
   "cell_type": "markdown",
   "metadata": {},
   "source": [
    "Here is the official reference on strings in python:\n",
    "\n",
    "https://docs.python.org/3/library/stdtypes.html#string-methods \n"
   ]
  }
 ],
 "metadata": {
  "kernelspec": {
   "display_name": "Python 3.9.6 64-bit",
   "language": "python",
   "name": "python3"
  },
  "language_info": {
   "codemirror_mode": {
    "name": "ipython",
    "version": 3
   },
   "file_extension": ".py",
   "mimetype": "text/x-python",
   "name": "python",
   "nbconvert_exporter": "python",
   "pygments_lexer": "ipython3",
   "version": "3.9.6"
  },
  "orig_nbformat": 4,
  "vscode": {
   "interpreter": {
    "hash": "aee8b7b246df8f9039afb4144a1f6fd8d2ca17a180786b69acc140d282b71a49"
   }
  }
 },
 "nbformat": 4,
 "nbformat_minor": 2
}
