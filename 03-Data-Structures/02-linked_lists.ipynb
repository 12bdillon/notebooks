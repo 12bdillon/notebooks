{
 "cells": [
  {
   "attachments": {},
   "cell_type": "markdown",
   "metadata": {},
   "source": [
    "# Data Structure"
   ]
  },
  {
   "attachments": {},
   "cell_type": "markdown",
   "metadata": {},
   "source": [
    "In this set of notes, we will outline and use linked lists, but before we get to them, let's define what a data structure is.\n",
    "\n",
    "A **data structure** is an object which stores data and provides operations for inserting, accessing, and removing data from it.\n",
    "\n",
    "Different data structures actually structure the data in different ways. This leads to different efficiencies for their operations. \n",
    "\n",
    "A few data structures are shown below:\n"
   ]
  },
  {
   "attachments": {},
   "cell_type": "markdown",
   "metadata": {},
   "source": [
    "<img src = \"figures/data-structures.jpeg\" width = \"100%\">"
   ]
  },
  {
   "attachments": {},
   "cell_type": "markdown",
   "metadata": {},
   "source": [
    "On the left we have a **Linked List**; in the middle, a **Graph**; and on the right, a **Binary Search Tree**."
   ]
  },
  {
   "cell_type": "markdown",
   "metadata": {},
   "source": [
    "\n",
    "\n",
    "From our perspective, other than the intellectual interest in understanding how they work (there are interesting ideas, designs, and algorithms within them!), different data structures have different strengths and weaknesses and are more or less suited for particular applications.\n",
    "\n",
    "In learning about various data structures, you are building up a toolbox of tools that you can apply to your problems. With an understanding of how they are actually structured and of their various efficiencies (or inefficiencies), you can pick the best one for the job."
   ]
  },
  {
   "attachments": {},
   "cell_type": "markdown",
   "metadata": {},
   "source": [
    "As we learn about various data structures, we will focus on a few things:\n",
    "\n",
    "1. Their structure\n",
    "\n",
    "2. How we can implement them\n",
    "\n",
    "3. The runtimes of common operations\n",
    "\n",
    "We'll also discuss applications, and, especially for graphs, algorithms which can be run on them."
   ]
  },
  {
   "attachments": {},
   "cell_type": "markdown",
   "metadata": {},
   "source": [
    "# Linked Lists"
   ]
  },
  {
   "attachments": {},
   "cell_type": "markdown",
   "metadata": {},
   "source": [
    "<img src = \"figures/linked-list.jpeg\" width = \"80%\">"
   ]
  },
  {
   "attachments": {},
   "cell_type": "markdown",
   "metadata": {},
   "source": [
    "A **Linked List** is a simple data structure.\n",
    "\n",
    "> Simplicity, by the way, should be one of our favorite things as programmers. It leads to beautiful and easy solutions.\n",
    "\n",
    "Linked Lists are distinct from python lists. Despite the similarity in the name, python lists are implemented using a different structure than linked lists.\n",
    "\n",
    "A **Linked List** is composed of **Nodes**. Each **Node** contains one element of the list and references to its next and previous nodes. \n",
    "\n",
    "The linked list itself only ever remembers the **HEAD** and **TAIL** nodes of the list. The **HEAD** and **TAIL** are the first and last elements in the list respectively. Every other node is accessed by starting at either of those and iterating through the list to get to it.\n",
    "\n",
    "With this information, we can sketch out a `Node` and `LinkedList` class:"
   ]
  },
  {
   "cell_type": "code",
   "execution_count": 4,
   "metadata": {},
   "outputs": [
    {
     "name": "stdout",
     "output_type": "stream",
     "text": [
      "[5]<->[7]\n"
     ]
    }
   ],
   "source": [
    "class Node:\n",
    "    def __init__(self, element):\n",
    "        \"\"\"\n",
    "        Construct a Node\n",
    "\n",
    "        Parameters\n",
    "        ----------\n",
    "        element : AnyType\n",
    "            An element to be stored in a Linked List\n",
    "        \"\"\"\n",
    "        self.element = element\n",
    "        # Create two attributes, next and prev and initialize them\n",
    "        # to be None\n",
    "        # These are set when a None is added to a Linked List\n",
    "        self.next = None\n",
    "        self.prev = None\n",
    "\n",
    "    def __str__(self):\n",
    "        if self.next == None:\n",
    "            return \"[{}]\".format(self.element)\n",
    "        else:\n",
    "            return \"[{}]<->\".format(self.element)\n",
    "\n",
    "class LinkedList:\n",
    "    def __init__(self):\n",
    "        self.size = 0\n",
    "        self.HEAD = None\n",
    "        self.TAIL = None\n",
    "\n",
    "    def is_empty(self):\n",
    "        return self.size == 0"
   ]
  },
  {
   "attachments": {},
   "cell_type": "markdown",
   "metadata": {},
   "source": [
    "## Inserting into a Linked List\n",
    "\n",
    "How can we insert into a Linked List?\n",
    "\n",
    "It depends on where we are inserting into. We can break this problem into three cases:\n",
    "\n",
    "1. Inserting into the very beginning of the list\n",
    "    - e.g, prepend\n",
    "2. Inserting into the middle of the list\n",
    "    - e.g, general insert\n",
    "3. Inserting at the very end of the list\n",
    "    - e.g, append\n",
    "\n",
    "In our Linked List, we'll implement a method for each of these cases.\n"
   ]
  },
  {
   "attachments": {},
   "cell_type": "markdown",
   "metadata": {},
   "source": [
    "\n",
    "### Append\n",
    "\n",
    "Prepending and appending are relatively simple. Let's implement `append` first.\n",
    "\n",
    "To append an element to a linked list, \n",
    "\n",
    "if the list is empty, we need to:\n",
    "1. Create a new `Node` containing the element\n",
    "2. Point the `HEAD` and `TAIL` to that node\n",
    "3. Increment the size of the list. \n"
   ]
  },
  {
   "attachments": {},
   "cell_type": "markdown",
   "metadata": {},
   "source": [
    "<img src = \"figures/ll-append-empty.jpeg\" width = \"40%\">"
   ]
  },
  {
   "cell_type": "markdown",
   "metadata": {},
   "source": [
    "\n",
    "If the list isn't empty, we need to:\n",
    "\n",
    "1. Create a new `Node` containing the element\n",
    "2. Update the pointers between the new node and previous tail\n",
    "3. Update the `TAIL` to point to this new node\n",
    "4. Increment the size of the list"
   ]
  },
  {
   "attachments": {},
   "cell_type": "markdown",
   "metadata": {},
   "source": [
    "<img src = \"figures/ll-append.jpeg\" width = \"75%\">"
   ]
  },
  {
   "attachments": {},
   "cell_type": "markdown",
   "metadata": {},
   "source": [
    "Putting it together in code, it looks like:\n",
    "\n",
    "```python\n",
    "def append(self, element):\n",
    "    node = Node(element)\n",
    "    if self.is_empty():\n",
    "        self.HEAD = node\n",
    "        self.TAIL = node\n",
    "    else:\n",
    "        node.prev = self.TAIL\n",
    "        self.TAIL.next = node\n",
    "        self.TAIL = node\n",
    "    self.size += 1\n",
    "```\n",
    "\n",
    "Rather than copying the whole Linked List code throughout this notebook, we'll write the functions in-line in the nodebook. We can consolidate everything into a Linked List class later."
   ]
  },
  {
   "attachments": {},
   "cell_type": "markdown",
   "metadata": {},
   "source": [
    "### Prepend\n",
    "\n",
    "`prepend` is very similar to `append`. The only difference is that we are inserting before the `HEAD` rather than after the `TAIL`.\n",
    "\n",
    "```python\n",
    "def prepend(self, element):\n",
    "    node = Node(element)\n",
    "    if self.is_empty():\n",
    "        self.HEAD = node\n",
    "        self.TAIL = node\n",
    "    else:\n",
    "        node.next = self.HEAD\n",
    "        self.HEAD.prev = node\n",
    "        self.HEAD = node\n",
    "    self.size += 1\n",
    "```"
   ]
  },
  {
   "attachments": {},
   "cell_type": "markdown",
   "metadata": {},
   "source": [
    "### General Insert\n",
    "\n",
    "For general insertion, we want to be able to insert at a particular position.\n",
    "\n",
    "For example, given an `element` and an `index`, after the insertion, that `element` should be at that `index`. The node that was there will be \"pushed back\".\n",
    "\n",
    "To perform a general insert, we need to:\n",
    "\n",
    "1. Create a new node, `new_node`, containing the element\n",
    "2. Iterate to the node BEFORE the insertion position\n",
    "3. Update the pointers between `new_node` and the nodes before and after it\n",
    "4. Increment the size of the list\n"
   ]
  }
 ],
 "metadata": {
  "kernelspec": {
   "display_name": "Python 3",
   "language": "python",
   "name": "python3"
  },
  "language_info": {
   "codemirror_mode": {
    "name": "ipython",
    "version": 3
   },
   "file_extension": ".py",
   "mimetype": "text/x-python",
   "name": "python",
   "nbconvert_exporter": "python",
   "pygments_lexer": "ipython3",
   "version": "3.9.6"
  },
  "orig_nbformat": 4,
  "vscode": {
   "interpreter": {
    "hash": "7812ea015bdcee6f23a998adcdd2ef97c151c0c241b7b7070987d9313e41299d"
   }
  }
 },
 "nbformat": 4,
 "nbformat_minor": 2
}
