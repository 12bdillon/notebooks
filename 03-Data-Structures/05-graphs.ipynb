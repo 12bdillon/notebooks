{
 "cells": [
  {
   "cell_type": "markdown",
   "metadata": {},
   "source": [
    "# Graphs"
   ]
  },
  {
   "attachments": {},
   "cell_type": "markdown",
   "metadata": {},
   "source": [
    "We've seen been both Linked Lists and Binary Search Trees which are linked data structures.\n",
    "\n",
    "Graphs are our most general linked data Structure. They are also perhaps our most versatile data structure.\n",
    "\n",
    "A **graph** is a set of vertices connected by edges.\n",
    "\n"
   ]
  },
  {
   "attachments": {},
   "cell_type": "markdown",
   "metadata": {},
   "source": [
    "\n",
    "<img src = \"figures/graphs.jpeg\" width = \"60%\">"
   ]
  },
  {
   "attachments": {},
   "cell_type": "markdown",
   "metadata": {},
   "source": [
    "In a **directed graph**, the edges have direction. $A$ can get directly to $B$, but $B$ can't go back to $A$ through that edge.\n",
    "\n",
    "In an **undirected graph**, edges can be traversed in both ways."
   ]
  },
  {
   "attachments": {},
   "cell_type": "markdown",
   "metadata": {},
   "source": [
    "## Applications\n",
    "\n",
    "Graphs are one of the most applicable data structures. This comes from their generality. At its core, graphs represent objects and the relationships between them. This isn't a philosophy course, but all of knowledge falls under that category.\n",
    "\n",
    "This is not to say that we should apply graphs to every problem in existence, but that it is a valuable skill to know how you can represent problems in terms of graphs and to know the types of questions you can ask and answer using graphs. Familarity with graphs and graph algorithms we pays dividends in problem solving aptitude.\n",
    "\n",
    "**Some Applications of Graphs:**\n",
    "\n",
    "- Networking\n",
    "\n",
    "- Social Networks\n",
    "- Cellular Processes\n",
    "- Biomolecular Interactions\n",
    "- Advertising\n",
    "- Disease Spread\n",
    "- Logistics\n",
    "- Lexical Semantics\n",
    "- Scheduling\n",
    "- Circuit Design\n",
    "- etc...\n"
   ]
  },
  {
   "attachments": {},
   "cell_type": "markdown",
   "metadata": {},
   "source": [
    "# Questions we can ask about Graphs\n",
    "\n",
    "Since we are concerned with the relationships between objects, it is to get the direct connections between vertices.\n"
   ]
  },
  {
   "attachments": {},
   "cell_type": "markdown",
   "metadata": {},
   "source": [
    "\n",
    "- We often want to find **neighbors** of any given vertex $v$. These are vertices that are directly connected to $v$ by an edge.\n",
    "\n",
    "    For example, which proteins directly interact with each other? \n",
    "    \n",
    "    Or, which products are directly related to related to each other via shared interests?\n"
   ]
  },
  {
   "attachments": {},
   "cell_type": "markdown",
   "metadata": {},
   "source": [
    "\n",
    "- A second related common question is: what is the **degree** of a vertex? That is, how many neighbors does it have?\n",
    "\n",
    "    How many cities can someone get a direct flight to from a given airport?\n"
   ]
  },
  {
   "cell_type": "markdown",
   "metadata": {},
   "source": [
    "\n",
    "- We are also often interested in **paths** through a graph. A **path** is a sequence of vertices where each is connected by an edge.\n",
    "    \n",
    "    What route should one take to drive from one city to the next?\n"
   ]
  },
  {
   "cell_type": "markdown",
   "metadata": {},
   "source": [
    "\n",
    "- Related to paths is the question of **reachability**. Is vertex $a$ reachable from $b$? That is, is there a path between them?\n",
    "\n",
    "    Given a graph of biomolecule interactions, can an antibody indirectly affect an unintended biological pathway? That is, can an antibody cause an unintended side effect?\n"
   ]
  },
  {
   "attachments": {},
   "cell_type": "markdown",
   "metadata": {},
   "source": [
    "\n",
    "- Generalizing the idea of reachability is **connectedness**. A graph is **connected** is there is a path between every pair of vertices.\n",
    "\n",
    "    - Not all graphs are connected. A **connected component** is a maximal subset of vertices where every pair in that subset is connected.\n",
    "\n",
    "    Social distancing was a practice in partitioning the massively connected graph of human interactions into many very small connected components.\n",
    "\n",
    "\n",
    "\n",
    "\n"
   ]
  },
  {
   "attachments": {},
   "cell_type": "markdown",
   "metadata": {},
   "source": [
    "\n",
    "<img src = \"figures/connected-components.jpeg\" width = \"60%\">"
   ]
  },
  {
   "attachments": {},
   "cell_type": "markdown",
   "metadata": {},
   "source": [
    "With your new found excitement to use graphs to solve your problems, let's dive in to how to use them!\n",
    "\n",
    "Our plan is to discuss how we can represent graphs computationally and then to see a few graph algorithms. We'll focus graph exploration which is useful for identifying connected components. Then we'll touch on a few other graph algorithms. We can't possibly cover everything, but it is a huge advantage to know what is possible."
   ]
  },
  {
   "attachments": {},
   "cell_type": "markdown",
   "metadata": {},
   "source": [
    "# Representing Graphs\n"
   ]
  },
  {
   "attachments": {},
   "cell_type": "markdown",
   "metadata": {},
   "source": [
    "There are multiple ways to represent a graph. We will consider one.\n",
    "\n",
    "When deciding how to implement a graph (or any data structure), we should ask what operations we want to perform efficiently.\n",
    "\n",
    "In other data structures, the key operations are:\n",
    "\n",
    "- insert\n",
    "- remove\n",
    "- contains\n",
    "\n",
    "As you can tell from our discussion about, with a graph, we are usually concerned with exploring relationships between the elements by analyzing paths, partitions, or substructures within the graph.\n",
    "\n",
    "Rather than being concerned with efficient modification (e.g, efficient insertion and removal), graphs are normally built upfront, and we want efficient access into them.\n",
    "\n",
    "Moreover, if we want to analyze larger structures, the fundamental operation is to be able to access the neighbors of individual vertices.\n"
   ]
  },
  {
   "attachments": {},
   "cell_type": "markdown",
   "metadata": {},
   "source": [
    "## Map of Neighbors\n",
    "\n",
    "A dictionary is a perfect structure for our needs. Dictionaries provide $O(1)$ access based on a key. Given a vertex, we can efficiently retrieve a list of its neighbors."
   ]
  },
  {
   "attachments": {},
   "cell_type": "markdown",
   "metadata": {},
   "source": [
    "Here are our original graph examples again:\n",
    "\n",
    "<img src = \"figures/graphs.jpeg\" width = \"60%\">\n",
    "\n",
    "We can build dictionaries to represent them:"
   ]
  },
  {
   "cell_type": "code",
   "execution_count": 2,
   "metadata": {},
   "outputs": [],
   "source": [
    "undirected_graph = {\n",
    "    'A': ['B', 'C'],\n",
    "    'B': ['A', 'C', 'D'],\n",
    "    'C': ['A', 'B', 'D'],\n",
    "    'D': ['B', 'C']\n",
    "}\n",
    "\n",
    "directed_graph = {\n",
    "    'A': ['B'],\n",
    "    'B': ['D'],\n",
    "    'C': ['A', 'B'],\n",
    "    'D': ['C']\n",
    "}"
   ]
  },
  {
   "attachments": {},
   "cell_type": "markdown",
   "metadata": {},
   "source": [
    "Getting a list of the neighbors for any vertex is trivially easy. "
   ]
  },
  {
   "cell_type": "code",
   "execution_count": 3,
   "metadata": {},
   "outputs": [
    {
     "name": "stdout",
     "output_type": "stream",
     "text": [
      "Undirected Graph 'B' has neighbors ['A', 'C', 'D']\n",
      "Directed Graph 'C' has neighbors ['A', 'B']\n"
     ]
    }
   ],
   "source": [
    "print(\"Undirected Graph 'B' has neighbors {}\".format(undirected_graph['B']))\n",
    "\n",
    "print(\"Directed Graph 'C' has neighbors {}\".format(directed_graph['C']))"
   ]
  },
  {
   "attachments": {},
   "cell_type": "markdown",
   "metadata": {},
   "source": [
    "# Coming Up\n",
    "\n",
    "In this notebook, we introduced graphs, potential applications, key questions and idea with respect to them, and how to represent them in a program. \n",
    "\n",
    "In our next notebook, we will explore a couple of related graph algorithms, namely, how to explore graphs!"
   ]
  }
 ],
 "metadata": {
  "kernelspec": {
   "display_name": "Python 3.9.6 64-bit",
   "language": "python",
   "name": "python3"
  },
  "language_info": {
   "codemirror_mode": {
    "name": "ipython",
    "version": 3
   },
   "file_extension": ".py",
   "mimetype": "text/x-python",
   "name": "python",
   "nbconvert_exporter": "python",
   "pygments_lexer": "ipython3",
   "version": "3.9.6"
  },
  "orig_nbformat": 4,
  "vscode": {
   "interpreter": {
    "hash": "aee8b7b246df8f9039afb4144a1f6fd8d2ca17a180786b69acc140d282b71a49"
   }
  }
 },
 "nbformat": 4,
 "nbformat_minor": 2
}
