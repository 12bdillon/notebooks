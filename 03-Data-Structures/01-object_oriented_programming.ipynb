{
 "cells": [
  {
   "cell_type": "markdown",
   "metadata": {},
   "source": [
    "# Object Oriented Programming"
   ]
  },
  {
   "attachments": {},
   "cell_type": "markdown",
   "metadata": {},
   "source": [
    "Just as we can build things in real life out of components, so to can we in computer programs.\n",
    "\n",
    "In programming, an **object** is a set of data along with associated functions wrapped up into a single component which we can use.\n",
    "\n",
    "You have seen and used objects before, just without any fanfare.\n",
    "\n",
    "For example:"
   ]
  },
  {
   "cell_type": "code",
   "execution_count": null,
   "metadata": {},
   "outputs": [],
   "source": [
    "part1 = \"race\"\n",
    "part2 = \"car!\"\n",
    "# Concatenate and print \"Race Car!\"\n",
    "print(part1.capitalize() + \" \" + part2.capitalize())"
   ]
  },
  {
   "attachments": {},
   "cell_type": "markdown",
   "metadata": {},
   "source": [
    "[Strings are objects](https://docs.python.org/3/library/stdtypes.html#text-sequence-type-str) in python! The data is the list of characters that make up the string and the functions are listed [here](https://docs.python.org/3/library/stdtypes.html#string-methods)"
   ]
  },
  {
   "attachments": {},
   "cell_type": "markdown",
   "metadata": {},
   "source": [
    "## Custom Objects"
   ]
  },
  {
   "attachments": {},
   "cell_type": "markdown",
   "metadata": {},
   "source": [
    "We can define our own custom objects. We'll see how to below, but first, why do so?"
   ]
  },
  {
   "attachments": {},
   "cell_type": "markdown",
   "metadata": {},
   "source": [
    "### Example: Expanding an Exploration Game"
   ]
  },
  {
   "attachments": {},
   "cell_type": "markdown",
   "metadata": {},
   "source": [
    "You have implemented a simple exploration game. Suppose you wanted to add combat. You could, for example, have different opponents in different rooms of the game.\n",
    "\n",
    "If we are to have combat, at a minimum, we need to track the `health` and `attack_damage` for the player and all opponents. One way would be to create variables for every potential combatant and update them as appropriate...\n"
   ]
  },
  {
   "attachments": {},
   "cell_type": "markdown",
   "metadata": {},
   "source": [
    "\n",
    "```python\n",
    "# All potential combatants health and attack_damage:\n",
    "player_health = 24\n",
    "player_attack_damage = 3\n",
    "\n",
    "tangled_cables_health = 8\n",
    "tangled_cables_attack_damage = 2\n",
    "\n",
    "suit_of_armor_health = 18\n",
    "suit_of_armor_attack_damage = 4\n",
    "\n",
    "spirit_of_the_gamer_health = 32\n",
    "spirit_of_the_gamer_attack_damage = 8\n",
    "\n",
    "#...\n",
    "```\n"
   ]
  },
  {
   "attachments": {},
   "cell_type": "markdown",
   "metadata": {},
   "source": [
    "This quickly becomes a challenge to manage and implement. Consider a combat loop. It would need a large conditional to use and update the right opponent stats based on the room. \n",
    "\n",
    "```python\n",
    "# combat loop\n",
    "while True:\n",
    "    # player attacks\n",
    "    if(room == 2):\n",
    "        tangled_cables_health -= player_attack_damage\n",
    "        if(tangled_cables_health < 1):\n",
    "            break # combat is over\n",
    "    elif(room == 4):\n",
    "        suit_of_armor_health -= player_attack_damage\n",
    "        if(suit_of_armor_health < 1):\n",
    "            break # combat is over\n",
    "    elif(room == 13):\n",
    "        spirit_of_the_gamer_attack_damage -= player_attack_damage\n",
    "        if(spirit_of_the_gamer_attack_damage < 1):\n",
    "            break # combat is over\n",
    "\n",
    "    # opponent takes their turn\n",
    "    if(room == 2):\n",
    "        player_health -= tangled_cables_attack_damage\n",
    "    elif(room == 4):\n",
    "        player_health -= suit_of_armor_attack_damage\n",
    "    elif(room == 13):\n",
    "        player_health -= spirit_of_the_gamer_attack_damage\n",
    "    if(player_health < 0):\n",
    "        break #combat it over\n",
    "```\n",
    "\n",
    "**Ugly!!** It is unwieldy and difficult to modify or add to.\n",
    "\n",
    "This is where objects shine. We can encapsulate the attributes for a player or opponent in their own classes and then use these classes in the game."
   ]
  },
  {
   "attachments": {},
   "cell_type": "markdown",
   "metadata": {},
   "source": [
    "Using `player` and `opponent` objects, we can write a much more readable combat loop:"
   ]
  },
  {
   "attachments": {},
   "cell_type": "markdown",
   "metadata": {},
   "source": [
    "```python\n",
    "while True:\n",
    "    player.attack(opponent)\n",
    "    if(not opponent.is_alive()):\n",
    "        # exit combat\n",
    "        break\n",
    "\n",
    "    opponent.attack(player)\n",
    "    if(not player.is_alive()):\n",
    "        # exit combat\n",
    "        break\n",
    "```"
   ]
  },
  {
   "attachments": {},
   "cell_type": "markdown",
   "metadata": {},
   "source": [
    "This is so much better. It is clear, concise, and easy to understand! This is incredibly important. I don't know about you, but I like to avoid headaches which is what I get when I read tangled code like above.\n"
   ]
  },
  {
   "attachments": {},
   "cell_type": "markdown",
   "metadata": {},
   "source": [
    "\n",
    "## Meta Goals for Programming:\n",
    "\n",
    "We we write programs, we aren't *only* concerned with getting them to work. We should have some important meta goals in mind as well.\n",
    "\n",
    "- Readability\n",
    "- Maintainability\n",
    "- Extensibility\n",
    "\n",
    "Readable programs are easy to understand. They reads like natural language. The epitomy of this is code that you can present to a non-programmer and they can start to tell you what it does.\n",
    "\n",
    "Maintainable programs are closely related to readable ones. These are programs which are easy to parse and understand (perhaps after a very long break) and are easy to debug and adapt.\n",
    "\n",
    "Extensible programs are ones where it is easy to add new components and functionality to.\n",
    "\n",
    "Object Oriented Programming as a paradigm makes it easy to achieve these goals. We've already seen how using objects can make a program more readable. We will see that it also makes them easily extensible as well."
   ]
  },
  {
   "attachments": {},
   "cell_type": "markdown",
   "metadata": {},
   "source": [
    "## Defining Objects"
   ]
  },
  {
   "attachments": {},
   "cell_type": "markdown",
   "metadata": {},
   "source": [
    "We define objects by writing **classes**. A **class** is a blueprint for an object.\n",
    "\n",
    "The class defines what the attributes and functions are that define this object. This is the relevant data that the object tracks and functions that can be called on it.\n",
    "\n",
    "Once we've written a class, we can create as many **instances** of it (object from it) as we want, and each will have its own copy of all of the attributes and functions.\n",
    "\n",
    "More jargon: An **object** is an **instance** of a **class**.\n",
    "\n",
    "To write a class, we need to define/implement the following:\n",
    "\n",
    "- class definition\n",
    "- a constructor\n",
    "    - attributes aka **instance variables**\n",
    "- the set of functions for the class"
   ]
  },
  {
   "attachments": {},
   "cell_type": "markdown",
   "metadata": {},
   "source": [
    "### Constructors\n",
    "\n",
    "A **constructor** is a special function which is used to initilialize objects of this class. Its job is to define and initialize the attributes for a particular object.\n",
    "\n",
    "For example, for a player, we might want to track that player's `name`, `health`, and `attack_damage`. The constructor gives these variables their initial values."
   ]
  },
  {
   "attachments": {},
   "cell_type": "markdown",
   "metadata": {},
   "source": [
    "## Defining a Player class\n",
    "\n",
    "When designing any class, the first two questions which must be answers are:\n",
    "\n",
    "1) What is the relevant data that must be tracked?\n",
    "    - These will become our class attributes\n",
    "2) What functions should this class have?\n",
    "\n",
    "For a `Player` class, we've already noted three relevant attributes:\n",
    "\n",
    "- `name`\n",
    "- `health`\n",
    "- `attack_damage`\n",
    "\n",
    "As far as functions, at a minimum, we should have the ability to `attack()`. Also, since they can be attacked themselves, we should add a function to `take_damage()` as well.\n",
    "\n",
    "With this, we can start to define a player class. The first step is to define the class and implement the constructor."
   ]
  },
  {
   "attachments": {},
   "cell_type": "markdown",
   "metadata": {},
   "source": [
    "### Writing the Constructor\n",
    "\n",
    "We implement the constructor by implementing the special function `__init__`. \n"
   ]
  },
  {
   "cell_type": "code",
   "execution_count": 1,
   "metadata": {},
   "outputs": [],
   "source": [
    "class Player:\n",
    "    # The constructor:\n",
    "    def __init__(self, name, health, attack_damage):\n",
    "        self.name = name\n",
    "        self.health = health\n",
    "        self.attack_damage = attack_damage"
   ]
  },
  {
   "cell_type": "markdown",
   "metadata": {},
   "source": [
    "\n",
    "Our constructor takes in values for all attributes and assigns those values into the class attributes.\n",
    "\n",
    "Within classes, `self` is a very special parameter. It is passed into all functions as the first parameter. It is a self-referential variable. It allows us to refer to the attributes and functions of the class.\n",
    "\n",
    "For example if we access `self.name`, we are accessing the class attribute name. If we access `name`, we are accessing the parameter name. These are two different variables. We always access class attributes through the `self` variable."
   ]
  },
  {
   "attachments": {},
   "cell_type": "markdown",
   "metadata": {},
   "source": [
    "## Testing our Player Class\n",
    "\n",
    "A mantra when programming is to test early and often! Let's create a Player object."
   ]
  },
  {
   "cell_type": "code",
   "execution_count": 2,
   "metadata": {},
   "outputs": [],
   "source": [
    "# To call on the constructor, we call on the class name like\n",
    "# a function. \n",
    "# \n",
    "# We do not need to pass in a value for the self parameter \n",
    "# we defined above. self is handled automatically in the \n",
    "# background\n",
    "#\n",
    "# Here we are creating a player with the name Esmeralda,\n",
    "# with 32 health, and an attack_damage of 4\n",
    "player = Player(\"Esmeralda\", 32, 4)"
   ]
  },
  {
   "attachments": {},
   "cell_type": "markdown",
   "metadata": {},
   "source": [
    "If you first execute the code block with our Player class definition and then this one above, nothing will happen. But that's ok and expected. We have no output yet.\n",
    "\n",
    "Let's add a way to see the state of our object."
   ]
  },
  {
   "attachments": {},
   "cell_type": "markdown",
   "metadata": {},
   "source": [
    "### The Special `__str__` function\n",
    "\n",
    "Python supports a special function, `__str__` which will allow us to easily print out the state of the object.\n",
    "\n",
    "This function's job is to return a string representing the object.\n",
    "\n",
    "Let's add it to our class."
   ]
  },
  {
   "cell_type": "code",
   "execution_count": 4,
   "metadata": {},
   "outputs": [],
   "source": [
    "class Player:\n",
    "    # The constructor:\n",
    "    def __init__(self, name, health, attack_damage):\n",
    "        self.name = name\n",
    "        self.health = health\n",
    "        self.attack_damage = attack_damage\n",
    "\n",
    "    def __str__(self):\n",
    "        message = \"{}\\n\".format(self.name)\n",
    "        message += \"Health: {}\\n\".format(self.health)\n",
    "        message += \"Attack Damage: {}\\n\".format(self.attack_damage)\n",
    "        return message"
   ]
  },
  {
   "cell_type": "code",
   "execution_count": 5,
   "metadata": {},
   "outputs": [
    {
     "name": "stdout",
     "output_type": "stream",
     "text": [
      "Esmeralda\n",
      "Health: 32\n",
      "Attack Damage: 4\n",
      "\n"
     ]
    }
   ],
   "source": [
    "player = Player(\"Esmeralda\", 32, 4)\n",
    "print(player)"
   ]
  },
  {
   "attachments": {},
   "cell_type": "markdown",
   "metadata": {},
   "source": [
    "Execute the two blocks above, and you will see Esmeralda's message."
   ]
  },
  {
   "attachments": {},
   "cell_type": "markdown",
   "metadata": {},
   "source": [
    "## Class Opponent\n"
   ]
  },
  {
   "attachments": {},
   "cell_type": "markdown",
   "metadata": {},
   "source": [
    "Next up for our player class would be to implement the functions `attack()` and `take_damage()`, but before we get there, we need to define an `Oponent`. Otherwise, we have nothing to attack!\n",
    "\n",
    "Considering the oponent, its relevant data is:\n",
    "\n",
    "- `name`\n",
    "- `health`\n",
    "- `attack_damage`\n",
    "\n",
    "Needed functions are:\n",
    "\n",
    "- `attack`()\n",
    "- `take_damage`()\n",
    "\n",
    "So far, it is identical to the `Player` class. \n",
    "\n",
    "Why create a second class for it? The major difference is that players are controlled by the user and opponents are automated and controlled by the game.\n",
    "\n",
    "Taking this into account, when we return to the `Player` class we can add a `take_turn()` function to let the user choose what to do (we should come up with another option besides attack).\n",
    "\n",
    "In the `Opponent` class, we can also implement `take_turn()` and for now, simply attack the player. Maybe in the future the opponent could automatically choose between multiple options.\n",
    "\n",
    "Let's implement `Oponent`:"
   ]
  },
  {
   "cell_type": "code",
   "execution_count": null,
   "metadata": {},
   "outputs": [],
   "source": []
  },
  {
   "cell_type": "markdown",
   "metadata": {},
   "source": [
    "```"
   ]
  }
 ],
 "metadata": {
  "kernelspec": {
   "display_name": "Python 3.9.6 64-bit",
   "language": "python",
   "name": "python3"
  },
  "language_info": {
   "codemirror_mode": {
    "name": "ipython",
    "version": 3
   },
   "file_extension": ".py",
   "mimetype": "text/x-python",
   "name": "python",
   "nbconvert_exporter": "python",
   "pygments_lexer": "ipython3",
   "version": "3.9.6"
  },
  "orig_nbformat": 4,
  "vscode": {
   "interpreter": {
    "hash": "aee8b7b246df8f9039afb4144a1f6fd8d2ca17a180786b69acc140d282b71a49"
   }
  }
 },
 "nbformat": 4,
 "nbformat_minor": 2
}
