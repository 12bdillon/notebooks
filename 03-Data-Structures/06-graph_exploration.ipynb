{
 "cells": [
  {
   "attachments": {},
   "cell_type": "markdown",
   "metadata": {},
   "source": [
    "# Graph Exploration"
   ]
  },
  {
   "attachments": {},
   "cell_type": "markdown",
   "metadata": {},
   "source": [
    "One of the fundamental operations we wish to perform over a graph is to explore it!\n",
    "\n",
    "This is often referred to as **Graph Search** since it can and is often used to search for information within a graph. \n",
    "\n",
    "A **graph search** is a traversal over the graph. Starting from some source vertex $s$, visit every vertex that is reachable from $s$."
   ]
  },
  {
   "attachments": {},
   "cell_type": "markdown",
   "metadata": {},
   "source": [
    "## General Algorithm\n",
    "\n",
    "If we consider a general traversal of a graph, at any given point, we can consider every vertext to be in one of three sets:\n",
    "\n",
    "- **visited**: the set of vertices already visited\n",
    "- **frontier**: the unvisited neighbors of the visited vertices\n",
    "- **unseen**: everything else\n",
    "\n",
    "A general graph traversal algorithm would then be:\n",
    "\n",
    "\n",
    "- while there are vertices left to visit:\n",
    "    - visit an unvisited vertex from the frontier\n",
    "    - remove it from the fontier\n",
    "    - add all its unvisited neighbors to the frontier\n",
    "    - add it to visited\n"
   ]
  },
  {
   "attachments": {},
   "cell_type": "markdown",
   "metadata": {},
   "source": [
    "# Breadth First Search (BFS)\n",
    "\n",
    "<center>\n",
    "<img src=\"https://upload.wikimedia.org/wikipedia/commons/4/46/Animated_BFS.gif\" width=20%/>\n",
    "</center>"
   ]
  },
  {
   "attachments": {},
   "cell_type": "markdown",
   "metadata": {},
   "source": [
    "In breadth first search, the vertices are traversed across the levels starting from a source vertex $s$. In other words, after $s$ is visited, all vertices one step away from it are visited, then all vertices two steps away, and so on.\n",
    "\n",
    "To implement this, we need structures for the `frontier` and for `visited`. \n",
    "\n",
    "For the `visited` structure, our two major operations `visited` will be to insert each vertex into it when we visit them and to check that a each vertex is not in `visited` before adding it to the frontier. We'll use a set. Python's sets achieves on average $O(1)$ for the insertion and contains operations.\n"
   ]
  },
  {
   "cell_type": "markdown",
   "metadata": {},
   "source": [
    "\n",
    "> When we first learned about python's built-in data structures (lists, sets, tuples, and dictionaries), we focused on their syntax and how to use them. When deciding which one to use for an application, their respective runtimes are the deciding factors and so it is useful to become familiar with them. Python's wiki page on [Time Complexity](https://wiki.python.org/moin/TimeComplexity) gives the runtimes for built-in python data structures. \n",
    "> \n",
    "> In this reference you will see that tuples are omitted, but that a structure known as a **deque** is included. This is a \"double-ended queue\", pronounced \"deck\", and is actually python's implementation of a Linked List! It can be used as a Stack or Queue depending on the operations used. Tuples are omitted, because they are simply immutable lists. As you've seen, tuples are mostly used to pass around or store multiple pieces of data as a single variable."
   ]
  },
  {
   "attachments": {},
   "cell_type": "markdown",
   "metadata": {},
   "source": [
    "For the `frontier`, you might notice in the animation above that we visit the vertices in the same order in which we added them to the `frontier`. This is exactly the behavior of a Queue. Therefore, we can use a Queue for the frontier and its behavior will allow us to visit the vertices in exactly the order we want!"
   ]
  },
  {
   "attachments": {},
   "cell_type": "markdown",
   "metadata": {},
   "source": [
    "### Pseudocode\n",
    "\n",
    "We can sketch this out pretty easily.\n",
    "\n",
    "We'll start by creating `visited` and `frontier` and by adding the source vertex $s$ to the frontier. When we implement this, we will write it as a function which takes in the graph and source vertex.\n",
    "\n",
    "Then, while the frontier isn't empty, visit the next vertex and add all its unvisited neighbors to the frontier.\n",
    "\n",
    "``` python\n",
    "visited = set()\n",
    "# We'll use a deque as a queue\n",
    "frontier = deque() # use ops `append` and `popleft`\n",
    "\n",
    "frontier.append(s)\n",
    "\n",
    "while len(frontier) > 0:\n",
    "    # Remove the next vertex from the frontier\n",
    "    # add it to visited\n",
    "    # all all unvisited neighbors to the frontier\n",
    "# return the set of visited vertices\n",
    "```"
   ]
  },
  {
   "attachments": {},
   "cell_type": "markdown",
   "metadata": {},
   "source": [
    "### Implementation"
   ]
  },
  {
   "cell_type": "code",
   "execution_count": 13,
   "metadata": {},
   "outputs": [],
   "source": [
    "from collections import deque\n",
    "\n",
    "def breadth_first_search(graph, source):\n",
    "    visited = set()\n",
    "    frontier = deque() # use ops `append` and `popleft`\n",
    "    frontier.append(source)\n",
    "    while len(frontier) > 0:\n",
    "        v = frontier.popleft()\n",
    "        \n",
    "        visited.add(v)\n",
    "        print(\"Visiting vertex {}\".format(v))\n",
    "        for neighbor in graph[v]:\n",
    "            if neighbor not in visited:\n",
    "                frontier.append(neighbor)\n",
    "        \n",
    "    return visited\n"
   ]
  },
  {
   "cell_type": "code",
   "execution_count": 14,
   "metadata": {},
   "outputs": [
    {
     "name": "stdout",
     "output_type": "stream",
     "text": [
      "Visiting vertex A\n",
      "Visiting vertex B\n",
      "Visiting vertex C\n",
      "Visiting vertex D\n",
      "Visiting vertex E\n",
      "Visiting vertex F\n",
      "Visiting vertex G\n",
      "Visiting vertex H\n"
     ]
    },
    {
     "data": {
      "text/plain": [
       "{'A', 'B', 'C', 'D', 'E', 'F', 'G', 'H'}"
      ]
     },
     "execution_count": 14,
     "metadata": {},
     "output_type": "execute_result"
    }
   ],
   "source": [
    "\n",
    "# Same as animated example\n",
    "graph = {\n",
    "            'A': ['B', 'C'],\n",
    "            'B': ['A', 'D', 'E'],\n",
    "            'C': ['A', 'F', 'G'],\n",
    "            'D': ['B'],\n",
    "            'E': ['B', 'H'],\n",
    "            'F': ['C'],\n",
    "            'G': ['C'],\n",
    "            'H': ['E']\n",
    "        }\n",
    "        \n",
    "breadth_first_search(graph, 'A')"
   ]
  },
  {
   "attachments": {},
   "cell_type": "markdown",
   "metadata": {},
   "source": [
    "### Tracking Distances\n",
    "\n",
    "We say that a vertex $a$ which is adjacent to $v$ is distance $1$ away from $v$. If two vertices are separated by two edges, then they are distance $2$ away from each other.\n",
    "\n",
    "More generally, we can define the distance between vertices as the number of edges on the shortest path between them.\n",
    "\n",
    "Breadth First Search visits all vertices that are one step away from the source before visiting all vertices that are two steps away from the source, and so on. We can thus modify Breadth First Search to calculate and return the distances from every vertex to the source.\n",
    "\n",
    "For practice, modify Breadth First Search given above so that instead of returning a set of the visited vertices, it returns a dictionary whose keys are vertices and values are the distance of that vertex from the source vertex."
   ]
  },
  {
   "cell_type": "code",
   "execution_count": null,
   "metadata": {},
   "outputs": [],
   "source": [
    "from collections import deque\n",
    "\n",
    "def breadth_first_search_distances(graph, source):\n",
    "    distances = {}\n",
    "    # TO-DO: Modify BFS to store the distance from\n",
    "    # each vertex to source in the dictionary distances.\n",
    "    # You may copy the implementation of BFS above to use\n",
    "    # as a starting point\n",
    "        \n",
    "    return distances"
   ]
  },
  {
   "attachments": {},
   "cell_type": "markdown",
   "metadata": {},
   "source": [
    "# Depth First Search (DFS)\n",
    "\n",
    "Whereas Breadth First Search visits every vertex across each level before moving on to the next, Depth First Search visits a chain of vertices starting from the source as far as it can go before moving to the next neighbor of the source."
   ]
  },
  {
   "attachments": {},
   "cell_type": "markdown",
   "metadata": {},
   "source": [
    "<center>\n",
    "<img src=\"https://upload.wikimedia.org/wikipedia/commons/7/7f/Depth-First-Search.gif\" width=25%/>\n",
    "</center>"
   ]
  },
  {
   "attachments": {},
   "cell_type": "markdown",
   "metadata": {},
   "source": [
    "Depth First Search can be used to detect cycles in graphs: if a vertex can be visited from multiple paths from the root, there must be a cycle. [Among other uses](https://en.wikipedia.org/wiki/Depth-first_search#Applications), Depth First Search can also serve as a strategy for generating or solving mazes."
   ]
  },
  {
   "attachments": {},
   "cell_type": "markdown",
   "metadata": {},
   "source": [
    "Depth First Search is similar to Breadth First Search, except that we use the frontier differently.\n",
    "\n",
    "In BFS, we visit vertices in the same order that we add them to the frontier, treating the frontier like a Queue.\n",
    "\n",
    "In DFS, we want to visit vertices further down a path before visiting those along a level. In the animation above, when visiting vertex $2$, vertex $3$ is added to the frontier and then is the immediate next one to visit. The behavior we want is that the last vertex added to the frontier will be the next vertex visited. This is the behavior of a stack!"
   ]
  },
  {
   "attachments": {},
   "cell_type": "markdown",
   "metadata": {},
   "source": [
    "### Pseudocode\n",
    "\n",
    "The algorithm for Depth First Search is VERY similar to BFS.\n",
    "\n",
    "``` python\n",
    "visited = set()\n",
    "# We'll use a deque as a stack\n",
    "frontier = deque() # use ops `append` and `pop`\n",
    "\n",
    "frontier.append(s)\n",
    "\n",
    "while len(frontier) > 0:\n",
    "    # Remove the next vertex from the frontier, the top of the stack\n",
    "    # add it to visited\n",
    "    # all all unvisited neighbors to the frontier\n",
    "# return the set of visited vertices\n",
    "```"
   ]
  },
  {
   "attachments": {},
   "cell_type": "markdown",
   "metadata": {},
   "source": [
    "### Implementation"
   ]
  },
  {
   "cell_type": "code",
   "execution_count": 17,
   "metadata": {},
   "outputs": [],
   "source": [
    "from collections import deque\n",
    "\n",
    "def depth_first_search(graph, source):\n",
    "    visited = set()\n",
    "    frontier = deque() # treat as a stack\n",
    "    frontier.append(source)\n",
    "    while len(frontier) > 0:\n",
    "        v = frontier.pop()\n",
    "        \n",
    "        visited.add(v)\n",
    "        print(\"Visiting vertex {}\".format(v))\n",
    "        for neighbor in graph[v]:\n",
    "            if neighbor not in visited:\n",
    "                frontier.append(neighbor)\n",
    "        \n",
    "    return visited"
   ]
  },
  {
   "cell_type": "code",
   "execution_count": 20,
   "metadata": {},
   "outputs": [
    {
     "name": "stdout",
     "output_type": "stream",
     "text": [
      "Visiting vertex 1\n",
      "Visiting vertex 2\n",
      "Visiting vertex 3\n",
      "Visiting vertex 4\n",
      "Visiting vertex 5\n",
      "Visiting vertex 6\n",
      "Visiting vertex 7\n",
      "Visiting vertex 8\n",
      "Visiting vertex 9\n",
      "Visiting vertex 10\n"
     ]
    },
    {
     "data": {
      "text/plain": [
       "{1, 2, 3, 4, 5, 6, 7, 8, 9, 10}"
      ]
     },
     "execution_count": 20,
     "metadata": {},
     "output_type": "execute_result"
    }
   ],
   "source": [
    "\n",
    "# Same as animated example\n",
    "graph = {\n",
    "            1: [9, 5, 2],\n",
    "            2: [1, 3],\n",
    "            3: [2, 4],\n",
    "            4: [3],\n",
    "            5: [8, 6],\n",
    "            6: [5, 7],\n",
    "            7: [6],\n",
    "            8: [5],\n",
    "            9: [1, 10],\n",
    "            10: [9]\n",
    "        }\n",
    "        \n",
    "depth_first_search(graph, 1)"
   ]
  },
  {
   "attachments": {},
   "cell_type": "markdown",
   "metadata": {},
   "source": [
    "## Connectedness\n",
    "\n",
    "We can use either BFS or DFS to discover connected components in graphs. Both search algorithms start from a source vertex and return the set of all vertices that are reachable from that vertex. \n",
    "\n",
    "If the whole graph is connected, then the set returns will contain all vertices in the graph. If the graph is not connected, then the set will neccesarily be a subset of the vertices in the graph. \n",
    "\n",
    "To get all connected components, the search can be run iteratively over the whole graph until all vertices are seen.\n",
    "\n"
   ]
  },
  {
   "attachments": {},
   "cell_type": "markdown",
   "metadata": {},
   "source": [
    "# Where to go from here\n",
    "\n",
    "Our introduction to graphs is short, but they are incredibly applicable and useful data structures. We've seen how to represent graphs and used the two major graph search algorithms: Breadth First Search and Depth First Search.\n",
    "\n",
    "These algorithms can be used to solve a variety of problems, but there are many more graph algorithms that you may find useful in the future. Searching graphs is just a first step. \n"
   ]
  },
  {
   "attachments": {},
   "cell_type": "markdown",
   "metadata": {},
   "source": [
    "\n",
    "Other useful algorithms include:\n",
    "\n",
    "**Path Finding Algorithms**\n",
    "- Given a source vertex, find the shortest paths from it to all (or particular) vertices in the graph.\n",
    "    - [Dijkstra's Algorithm](https://en.wikipedia.org/wiki/Dijkstra%27s_algorithm)\n",
    "    - [Bellman-Ford Algorithm](https://en.wikipedia.org/wiki/Bellman%E2%80%93Ford_algorithm)\n",
    "    - [Johnson's Algorithm](https://en.wikipedia.org/wiki/Johnson%27s_algorithm)\n",
    "\n",
    "**Minimum Spanning Trees**\n",
    "- Identify a set of edges that connect all vertices but that have no cycles within them.\n",
    "- This is useful for designing utilities (electricity should reach all customers and there should be no short circuits in the distribution network!).\n",
    "- Internet traffic routing is another application.\n",
    "    - [Prim's Algorithm](https://en.wikipedia.org/wiki/Prim%27s_algorithm)\n",
    "    - [Kruskal's Algorithm](https://en.wikipedia.org/wiki/Kruskal%27s_algorithm)\n",
    "    - [Boruvka's Algorithm](https://en.wikipedia.org/wiki/Bor%C5%AFvka%27s_algorithm)\n",
    "\n",
    "**[Maximum Cliques](https://en.wikipedia.org/wiki/Clique_problem)/[Independent Sets](https://en.wikipedia.org/wiki/Independent_set_(graph_theory))**\n",
    "\n",
    "- These two problems are inverses of one another. A maximum clique is the largest set of vertices in a graph that are completely connected. That is, every pairs of vertices is directly connected by an edge. \n",
    "- An Independent Set is a set of vertices where no pair of vertices share an edge.\n",
    "    - There are no known efficient algorithms to solve these problems. All algorithms so far invented are some form of a brute force search.\n",
    "\n",
    "And the list goes on.\n"
   ]
  },
  {
   "cell_type": "markdown",
   "metadata": {},
   "source": [
    "\n",
    "It can be very profitable to build up a familiarity with the types of problems that can be solved using graphs. With that familiarity, when you are investigating a new problem, if you can represent it as a graph and run a well-known algorithm to address your problem, you can very quickly make headway and get results.\n",
    "\n",
    "Given their generality and the abundance of algorithms than can operate on them, graphs can be a very powerful tool in your problem solving toolbox.\n"
   ]
  }
 ],
 "metadata": {
  "kernelspec": {
   "display_name": "Python 3.9.6 64-bit",
   "language": "python",
   "name": "python3"
  },
  "language_info": {
   "codemirror_mode": {
    "name": "ipython",
    "version": 3
   },
   "file_extension": ".py",
   "mimetype": "text/x-python",
   "name": "python",
   "nbconvert_exporter": "python",
   "pygments_lexer": "ipython3",
   "version": "3.9.6"
  },
  "orig_nbformat": 4,
  "vscode": {
   "interpreter": {
    "hash": "aee8b7b246df8f9039afb4144a1f6fd8d2ca17a180786b69acc140d282b71a49"
   }
  }
 },
 "nbformat": 4,
 "nbformat_minor": 2
}
