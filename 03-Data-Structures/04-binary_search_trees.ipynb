{
 "cells": [
  {
   "cell_type": "markdown",
   "metadata": {},
   "source": [
    "# Binary Search Trees"
   ]
  },
  {
   "attachments": {},
   "cell_type": "markdown",
   "metadata": {},
   "source": [
    "Trees are one of the most fundamental data structures in all of computer science.\n",
    "\n",
    "They allow us to easily and efficiently store and search for data.\n",
    "\n",
    "We've seen trees before, in the context of algorithms! You already know that they beautifully illustrate the behavior of algorithms and can allow us to elegantly and rigorously analyze thei runtimes.\n",
    "\n",
    "In the context of data structures, a **Tree** is a linked data structure consisting of nodes. A **node** contains and element and references to 0 or more child nodes."
   ]
  },
  {
   "attachments": {},
   "cell_type": "markdown",
   "metadata": {},
   "source": [
    "<img src = \"figures/BST-00.jpeg\" width = \"75%\">"
   ]
  },
  {
   "attachments": {},
   "cell_type": "markdown",
   "metadata": {},
   "source": [
    "In contrast to our algorithms discussions, here we are using a tree to store information rather than represent the behavior of algorithms.\n",
    "\n",
    "As you already know from our algorithms discussion, the **root** is at the top of the tree. Nodes with 0 children are **leaves**.\n",
    "\n",
    "A **binary tree** has a branching factor of 2. Put another way, every node has at most two children.\n",
    "\n",
    "The **height** of a tree is the number of levels in it. The height of a binary tree is $O(\\lg n)$."
   ]
  },
  {
   "attachments": {},
   "cell_type": "markdown",
   "metadata": {},
   "source": [
    "# Binary Search Trees\n",
    "\n",
    "A Binary Search Tree is a binary tree with a special search property.\n",
    "\n",
    "**The Binary Search Tree Property**\n",
    "\n",
    "For every node in the tree, all elements in its left subtree are less than it, and all element in its right subtree are greater than (or equal to) it.\n",
    "\n",
    "What about duplicates? Normally, duplicates are placed in the right subtree.\n",
    "\n"
   ]
  },
  {
   "attachments": {},
   "cell_type": "markdown",
   "metadata": {},
   "source": [
    "# Implementation\n",
    "\n",
    "BSTs are naturally recursive.\n",
    "\n",
    "A BST contains its root element and two subtrees: its left and right subtree. A subtree is just a tree.\n",
    "\n",
    "Attributes:\n",
    "- root element\n",
    "- left subtree\n",
    "- right subtree\n",
    "\n",
    "```python\n",
    "class BST:\n",
    "    def __init__(self, element):\n",
    "        self.element = element\n",
    "        self.left = None\n",
    "        self.right = None\n",
    "```"
   ]
  },
  {
   "attachments": {},
   "cell_type": "markdown",
   "metadata": {},
   "source": [
    "## Operations\n",
    "\n",
    "Fundamental BST operations include:\n",
    "\n",
    "- `contains`: search for a `key`, return `True` if that `key` is in the tree, `False` otherwise.\n",
    "- `insert`: insert a new element into the tree, obeying the BST property\n",
    "- `remove`: remove an element from the tree, maintaining the BST property\n",
    "- `traverse`: iterate over the tree, processing each element\n",
    "\n"
   ]
  },
  {
   "attachments": {},
   "cell_type": "markdown",
   "metadata": {},
   "source": [
    "## contains\n",
    "\n",
    "Binary **Search** Trees have their name for a purpose. We'll start with the contains method to see how we can search through BSTs.\n",
    "\n",
    "Suppose are are given a BST:"
   ]
  },
  {
   "attachments": {},
   "cell_type": "markdown",
   "metadata": {},
   "source": [
    "<img src = \"figures/BST-00.jpeg\" width = \"75%\">"
   ]
  },
  {
   "attachments": {},
   "cell_type": "markdown",
   "metadata": {},
   "source": [
    "First off, we can verify that this is a BST by ensuring that the BST property is satisfied for every node. \n",
    "\n",
    "> The BST Property:\n",
    ">\n",
    "> For every node in the tree, all elements in its left subtree are less than it, and all element in its right subtree are greater than (or equal to) it.\n",
    "\n",
    "The BST property is satisfied for this tree.\n",
    "\n",
    "For example, the tree rooted at $3$ is a BST since $0 < 3$ and $5 > 3$.\n",
    "\n",
    "It is easy enough to see that the tree rooted at $17$ also satisfies the property.\n",
    "\n",
    "We can verify the same for $8$ as well. $0$, $3$, and $5$ are all less than it, and $9$, $17$, and $21$ are all greater than it."
   ]
  },
  {
   "attachments": {},
   "cell_type": "markdown",
   "metadata": {},
   "source": [
    "### Searching in a BST\n",
    "\n",
    "To search in this tree, we can use the BST property to our advantage.\n",
    "\n",
    "If we want to search for $9$, we start at the root. Since $9 > 8$, we continue our search in $8$'s right subtreee. Since $9 < 17$, we search in $17$'s left subtree. There we find $9$.\n",
    "\n",
    "<img src = \"figures/BST-search.jpeg\" width = \"75%\">\n",
    "\n",
    "If we were to search for an element not in the tree, eventually we would end up in a leaf and have no where else to search. In that case, we would know that it must not be in a tree."
   ]
  },
  {
   "attachments": {},
   "cell_type": "markdown",
   "metadata": {},
   "source": [
    "### Implementation\n",
    "\n",
    "We can use recursion! Depending on the direction we need to continue our search, recursively call search on that subtree. \n",
    "\n",
    "```python\n",
    "def contains(self, key):\n",
    "    if key < self.element:\n",
    "        # if we should go left, but there is no\n",
    "        # left subtree, key not in tree\n",
    "        if self.left == None:\n",
    "            return False\n",
    "        # continue search in left subtree\n",
    "        return self.left.contains(key)\n",
    "    else:\n",
    "        # if we should go right, but there is no\n",
    "        # right subtree, key not in tree\n",
    "        if self.right == None:\n",
    "            return False\n",
    "        # continue search in left subtree\n",
    "        return self.right.contains(key)\n",
    "```"
   ]
  },
  {
   "attachments": {},
   "cell_type": "markdown",
   "metadata": {},
   "source": [
    "### Runtime\n",
    "\n",
    "We could write a recurrence for this, but we can do an even simpler analysis. In the worst case, we have check a single node on each level. Each check is a constant time operation so the runtime of `contains` is equivalent to the depth of the tree.\n",
    "\n",
    "Assuming that the tree is balanced, that is that every node has roughly the same number of children in its left and right subtrees:\n",
    "\n",
    "`contains()` $\\in O(\\lg n)$"
   ]
  },
  {
   "attachments": {},
   "cell_type": "markdown",
   "metadata": {},
   "source": [
    "## insert\n",
    "\n",
    "Having discussed `contains` we already have a key idea, inserting will be pretty similar.\n",
    "\n",
    "To insert an element, we need to:\n",
    "\n",
    "1. search for the location where the element should belong\n",
    "2. create a new BST containing it and assign it there\n",
    "\n",
    "For example, suppose we want to insert 11 into our BST:\n"
   ]
  },
  {
   "cell_type": "markdown",
   "metadata": {},
   "source": [
    "\n",
    "<img src = \"figures/BST-insert.jpeg\" width = \"75%\">"
   ]
  },
  {
   "attachments": {},
   "cell_type": "markdown",
   "metadata": {},
   "source": [
    "Insertion is very similar to searching, except at the end we create a new subtree rather than return True or False."
   ]
  },
  {
   "attachments": {},
   "cell_type": "markdown",
   "metadata": {},
   "source": [
    "### Implementation\n",
    "\n",
    "```python\n",
    "def insert(self, element):\n",
    "    if element < self.element:\n",
    "        # if the element belongs in the left subtree,\n",
    "        # but there is nothing there, put this element there\n",
    "        if self.left == None:\n",
    "            self.left = BST(element)\n",
    "        # recursively insert into the left subtree\n",
    "        return self.left.insert(element)\n",
    "    else:\n",
    "        # if the element belongs in the right subtree,\n",
    "        # but there is nothing there, put this element there\n",
    "        if self.right == None:\n",
    "            self.right = BST(element)\n",
    "        # recursively insert into the left subtree\n",
    "        return self.right.insert(element)\n",
    "```"
   ]
  },
  {
   "attachments": {},
   "cell_type": "markdown",
   "metadata": {},
   "source": [
    "### Runtime\n",
    "\n",
    "The runtime for `insert` is the same as `contains`.\n",
    "\n",
    "If that the tree is balanced:\n",
    "\n",
    "`insert()` $\\in O(\\lg n)$"
   ]
  },
  {
   "attachments": {},
   "cell_type": "markdown",
   "metadata": {},
   "source": [
    "## Remove"
   ]
  },
  {
   "attachments": {},
   "cell_type": "markdown",
   "metadata": {},
   "source": [
    "Removal from a BST is interesting, but I will omit a detailed discussion here in lieu of moving forward to tree traversals.\n",
    "\n",
    "I will only note here that the runtime of `remove`, like `insert` is proportional to the height of the tree.\n",
    "\n",
    "If the tree is balanced:\n",
    "\n",
    "`remove()` $\\in O(\\lg n)$."
   ]
  },
  {
   "attachments": {},
   "cell_type": "markdown",
   "metadata": {},
   "source": [
    "# Tree Traversals\n",
    "\n",
    "A tree traversal allows us to visit for access every element in a tree. \n",
    "\n",
    "There are 3 tree traverals:\n",
    "- preorder traversal\n",
    "- inorder traversal\n",
    "- postorder traversal\n",
    "\n",
    "We implement traversals recursively. \n",
    "\n",
    "The difference between the three traversals is the when the processing of the element is performed with respect to the traversing of its subtrees."
   ]
  },
  {
   "attachments": {},
   "cell_type": "markdown",
   "metadata": {},
   "source": [
    "Here is the pseudocode for the three traversals, using `print` to allow us to see that we are visiting each element."
   ]
  },
  {
   "attachments": {},
   "cell_type": "markdown",
   "metadata": {},
   "source": [
    "**preorder traversal**\n",
    "```python\n",
    "print(self.element)\n",
    "preorder_traverse(self.left)\n",
    "preorder_traverse(self.right)\n",
    "```"
   ]
  },
  {
   "attachments": {},
   "cell_type": "markdown",
   "metadata": {},
   "source": [
    "**inorder traversal**\n",
    "```python\n",
    "inorder_traverse(self.left)\n",
    "print(self.element)\n",
    "inorder_traverse(self.right)\n",
    "```"
   ]
  },
  {
   "attachments": {},
   "cell_type": "markdown",
   "metadata": {},
   "source": [
    "**postorder traversal**\n",
    "```python\n",
    "postorder_traverse(self.left)\n",
    "postorder_traverse(self.right)\n",
    "print(self.element)\n",
    "```"
   ]
  },
  {
   "attachments": {},
   "cell_type": "markdown",
   "metadata": {},
   "source": [
    "## Performing an inorder traversal\n",
    "\n",
    "An inorder traversal is the easiest to understand initially.\n",
    "\n",
    "We can start on a tree with a single element.\n"
   ]
  },
  {
   "cell_type": "markdown",
   "metadata": {},
   "source": [
    "\n",
    "<img src = \"figures/BST-single.jpeg\" width = \"55%\">"
   ]
  },
  {
   "attachments": {},
   "cell_type": "markdown",
   "metadata": {},
   "source": [
    "**inorder traversal**\n",
    "```python\n",
    "inorder_traverse(self.left)\n",
    "print(self.element)\n",
    "inorder_traverse(self.right)\n",
    "```\n",
    "\n",
    "To perform an inorder traveral on $8$, we first try to traverse its left subtree. There is nothing there. We then print $8$. Then we try to traverse its right subtree. There is nothing there. We are done.\n",
    "\n",
    "The output of the traveral is:\n",
    "\n",
    "`8`"
   ]
  },
  {
   "attachments": {},
   "cell_type": "markdown",
   "metadata": {},
   "source": [
    "Ok, here is a more involved example:\n",
    "\n",
    "<img src = \"figures/BST-traverse-3.jpeg\" width = \"55%\">"
   ]
  },
  {
   "attachments": {},
   "cell_type": "markdown",
   "metadata": {},
   "source": [
    "To traverse this tree, we start at $8$.\n",
    "\n",
    "1. Traverse its left subtree\n",
    "    - we are now at $3$\n",
    "2. Try to traverse $3$'s left subtree\n",
    "    - nothing there\n",
    "3. print $3$.\n",
    "4. Try to traverse $3$'s right subtree\n",
    "    - nothing there, done at $3$\n",
    "5. Return to $8$, print $8$.\n",
    "6. Traverse $8$'s right subtree\n",
    "    - now at $17$\n",
    "7. Try to traverse $17$'s left subtree\n",
    "    - nothing there\n",
    "8. print $17$.\n",
    "9. Try to traverse $17$'s right subtree\n",
    "    - nothing there, done at $17$\n",
    "10. return to $8$. done.\n",
    "\n",
    "Final output:\n",
    "\n",
    "`3 8 17`\n",
    "\n",
    "You will note that it visits all elements in order.\n",
    "\n",
    "With this, I think you get the idea. Walk through the process yourself on larger trees to verify your understanding.\n",
    "\n",
    "You can also apply this same process to understand the behavior of the other two traversals. Their output isn't as intuitive as the inorder traverse, but they turn out to be very useful. We'll see more about that in this section's video."
   ]
  },
  {
   "attachments": {},
   "cell_type": "markdown",
   "metadata": {},
   "source": [
    "# Balanced Trees\n",
    "\n",
    "In each of our runtime analysis above, we explicitly noted that if the tree is balanced, the runtimes of our three major operations - `contains`, `insert`, and `remove` - are all in $O(\\lg n)$.\n",
    "\n",
    "Our tree however, is not inherently balanced. That is, there is nothing to stop it from becoming unbalanced.\n",
    "\n",
    "For example, given our rules for insertion, what tree do you get if you insert the following list of numbers, in order, into an empty BST?\n",
    "\n",
    "`1 2 3 4 5 6`\n",
    "\n",
    "Pause and draw it!\n",
    "\n",
    "You should note that it definitely is NOT balanced.\n",
    "\n",
    "### Actual Balanced BSTs\n",
    "\n",
    "We've been discussing the basic BST, but there are Binary Search Trees that are balanced.\n",
    "\n",
    "If you are interested, a few examples of Balances BSTs include:\n",
    "\n",
    "- Red-Black Trees\n",
    "- AVL Trees\n",
    "- B-Trees\n",
    "\n",
    "My favorite, if you are curious is the AVL tree. It balances trees with \"rotations\", and that is fun.\n",
    "\n",
    "B-trees are also super cool. They are used to implement efficient access in slow structures such as file systems and databases."
   ]
  }
 ],
 "metadata": {
  "kernelspec": {
   "display_name": "Python 3.9.6 64-bit",
   "language": "python",
   "name": "python3"
  },
  "language_info": {
   "name": "python",
   "version": "3.9.6"
  },
  "orig_nbformat": 4,
  "vscode": {
   "interpreter": {
    "hash": "aee8b7b246df8f9039afb4144a1f6fd8d2ca17a180786b69acc140d282b71a49"
   }
  }
 },
 "nbformat": 4,
 "nbformat_minor": 2
}
